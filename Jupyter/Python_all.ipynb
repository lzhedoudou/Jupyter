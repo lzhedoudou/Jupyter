{
 "cells": [
  {
   "cell_type": "markdown",
   "metadata": {},
   "source": [
    "# <center>算数运算符</center>"
   ]
  },
  {
   "cell_type": "code",
   "execution_count": 3,
   "metadata": {},
   "outputs": [
    {
     "data": {
      "text/plain": [
       "33.0"
      ]
     },
     "execution_count": 3,
     "metadata": {},
     "output_type": "execute_result"
    }
   ],
   "source": [
    "# 股票平均价 前五个交易日的均价\n",
    "# 基本运算\n",
    "(11 + 22 + 33 + 44 + 55)/5"
   ]
  },
  {
   "cell_type": "markdown",
   "metadata": {},
   "source": [
    "# <center>变量和赋值运算符</center>"
   ]
  },
  {
   "cell_type": "code",
   "execution_count": 21,
   "metadata": {},
   "outputs": [
    {
     "name": "stdout",
     "output_type": "stream",
     "text": [
      "3\n",
      "3\n",
      "----------\n",
      "1 2 3\n",
      "----------\n",
      "50.0\n",
      "<class 'float'>\n",
      "1500\n"
     ]
    }
   ],
   "source": [
    "# 赋值\n",
    "a = 3\n",
    "print(a)\n",
    "b = a\n",
    "print(b)\n",
    "print(\"-\" * 10)\n",
    "a,b,c = 1,2,3\n",
    "print(a,b,c)\n",
    "\n",
    "# 计算收入单价和数量\n",
    "revernu = 1000\n",
    "price = 20\n",
    "number = revernu / price\n",
    "print(\"-\" * 10)\n",
    "print(number)\n",
    "print(type(number))\n",
    "revernu += 500\n",
    "print(revernu)"
   ]
  },
  {
   "cell_type": "markdown",
   "metadata": {},
   "source": [
    "# <center>整数和浮点数</center>"
   ]
  },
  {
   "cell_type": "code",
   "execution_count": 26,
   "metadata": {},
   "outputs": [
    {
     "name": "stdout",
     "output_type": "stream",
     "text": [
      "0.30000000000000004\n"
     ]
    }
   ],
   "source": [
    "# 注意这个\n",
    "print(0.1 + 0.1 + 0.1)"
   ]
  },
  {
   "cell_type": "markdown",
   "metadata": {},
   "source": [
    "- 在进行数学运算的时候要注意除零错误"
   ]
  },
  {
   "cell_type": "markdown",
   "metadata": {},
   "source": [
    "# <center>比较运算符</center>"
   ]
  },
  {
   "cell_type": "markdown",
   "metadata": {},
   "source": [
    "- 值应该是布尔值\n",
    "- 注意not，相当于把布尔值进行了翻转"
   ]
  },
  {
   "cell_type": "code",
   "execution_count": 32,
   "metadata": {},
   "outputs": [
    {
     "name": "stdout",
     "output_type": "stream",
     "text": [
      "False\n",
      "True\n",
      "False\n"
     ]
    }
   ],
   "source": [
    "# 组合比较运算符计算\n",
    "print(1 < 2 and 3 > 4)\n",
    "print(1 < 2 or 3 > 4)\n",
    "print(not 1 < 2 or 3 > 4)"
   ]
  },
  {
   "cell_type": "markdown",
   "metadata": {},
   "source": [
    "# <center>字符串</center>"
   ]
  },
  {
   "cell_type": "code",
   "execution_count": 12,
   "metadata": {},
   "outputs": [
    {
     "name": "stdout",
     "output_type": "stream",
     "text": [
      "this is a test\n",
      "<class 'str'>\n",
      "I'm a teacher\n",
      "I'm a teacher\n"
     ]
    }
   ],
   "source": [
    "rst1 = 'this is a test'\n",
    "print(rst1)\n",
    "print(type(rst1))\n",
    "# 一种方式使用两种引号\n",
    "rst2 = \"I'm a teacher\"\n",
    "print(rst2)\n",
    "# 另一种方式\n",
    "# \\就是告诉解释器跳过这个'\n",
    "rst3 = 'I\\'m a teacher'\n",
    "print(rst3)"
   ]
  },
  {
   "cell_type": "code",
   "execution_count": 21,
   "metadata": {},
   "outputs": [
    {
     "name": "stdout",
     "output_type": "stream",
     "text": [
      "yes and no\n",
      "yesyesyes\n",
      "----------\n",
      "9\n"
     ]
    }
   ],
   "source": [
    "# 字符串的拼接\n",
    "Frist_word = 'yes'\n",
    "Second_word = 'and'\n",
    "Three_word = 'no'\n",
    "rst1 = Frist_word + ' '+ Second_word + ' ' + Three_word\n",
    "print(rst1)\n",
    "rst2 = Frist_word * 3\n",
    "print(rst2)\n",
    "print(\"-\"  * 10)\n",
    "# 字符串长度函数len()\n",
    "print(len(rst2))"
   ]
  },
  {
   "cell_type": "code",
   "execution_count": 24,
   "metadata": {},
   "outputs": [
    {
     "name": "stdout",
     "output_type": "stream",
     "text": [
      "请输入一个名字sdf\n",
      "这个名字可能是对的或者只是打错了！\n"
     ]
    }
   ],
   "source": [
    "# 做一个联系题，通过字符串长度判断输入的name是否正确，找出一个超长输入的字符串\n",
    "Frist_name = 'fulajimier'\n",
    "Family_name = 'pujing'\n",
    "inputname = input('请输入一个名字')\n",
    "if len(inputname) + 3 > len(Frist_name + Family_name):\n",
    "    print(\"这个名字可能就是瞎输入的！\")\n",
    "else:\n",
    "    print(\"这个名字可能是对的或者只是打错了！\")"
   ]
  },
  {
   "cell_type": "markdown",
   "metadata": {},
   "source": [
    "# <center>类型和类型转换</center>"
   ]
  },
  {
   "cell_type": "markdown",
   "metadata": {},
   "source": [
    "- 主要是布尔值的问题\n",
    "    - True = 1\n",
    "    - False = 0"
   ]
  },
  {
   "cell_type": "markdown",
   "metadata": {},
   "source": [
    "# <center>字符串方法</center>"
   ]
  },
  {
   "cell_type": "code",
   "execution_count": 41,
   "metadata": {},
   "outputs": [
    {
     "name": "stdout",
     "output_type": "stream",
     "text": [
      "Tom is a good boy\n",
      "False\n",
      "4\n",
      "5\n"
     ]
    }
   ],
   "source": [
    "Mom_said = \"Tom is a good boy\"\n",
    "print(Mom_said)\n",
    "# 判断字符串是否都是小写方法-islower\n",
    "rst1 = Mom_said.islower()\n",
    "print(rst1)\n",
    "# 查找字符串中指定字符的个数-count\n",
    "rst2 = Mom_said.count('o')\n",
    "print(rst2)\n",
    "# 查找指定字符串首次出现在哪个位置-注意空格也是字符\n",
    "rst3 = Mom_said.find('s')\n",
    "print(rst3)"
   ]
  },
  {
   "cell_type": "markdown",
   "metadata": {},
   "source": [
    "# <center>列表</center>"
   ]
  },
  {
   "cell_type": "code",
   "execution_count": 21,
   "metadata": {},
   "outputs": [
    {
     "name": "stdout",
     "output_type": "stream",
     "text": [
      "[1, 2, 3, 4, 5, 6, 7, 8, 9]\n",
      "6\n",
      "9\n",
      "7\n",
      "9\n",
      "[1, 2, 3, 4, 'hello', True, False]\n",
      "7\n",
      "True\n"
     ]
    }
   ],
   "source": [
    "List_one = [i for i in range(1,10)]\n",
    "List_two = [1,2,3,4,'hello',True,False]\n",
    "print(List_one)\n",
    "print(List_one[5]) # 输出应该是6，注意索引从0开始\n",
    "print(List_one[-1]) # 从右向左数第一个\n",
    "print(List_one[-3]) # 输入应该是7\n",
    "print(len(List_one)) # 列表长度\n",
    "print(List_two)\n",
    "print(len(List_two)) # 列表长度应该是7\n",
    "\n",
    "# 打印出List_two的True,最后一位要减1，倒数第二位要减2\n",
    "print(List_two[len(List_two) - 2])"
   ]
  },
  {
   "cell_type": "markdown",
   "metadata": {},
   "source": [
    "## 列表切片"
   ]
  },
  {
   "cell_type": "code",
   "execution_count": 43,
   "metadata": {},
   "outputs": [
    {
     "name": "stdout",
     "output_type": "stream",
     "text": [
      "[9, 10, 11, 12, 13, 14, 15, 16, 17]\n",
      "[9, 10, 11, 12, 13, 14, 15, 16, 17, 18, 19]\n",
      "[9, 10, 11, 12, 13, 14, 15, 16, 17, 18, 19]\n",
      "[9, 11, 13, 15, 17]\n",
      "[17, 15, 13, 11, 9]\n"
     ]
    }
   ],
   "source": [
    "# 显示列表其中的一部分\n",
    "list1 = [i for i in range(1,20)]\n",
    "print(list1[8:17]) # 注意下标从0开始，8就是第9个元素\n",
    "print(list1[8:]) # 从下标8开始到最后一个元素\n",
    "print(list1[8:100]) # 如果下标超出，就打印到最后\n",
    "print(list1[8:17:2])\n",
    "print(list1[16:7:-2])"
   ]
  },
  {
   "cell_type": "code",
   "execution_count": 45,
   "metadata": {},
   "outputs": [
    {
     "name": "stdout",
     "output_type": "stream",
     "text": [
      "False\n",
      "True\n"
     ]
    }
   ],
   "source": [
    "# 判断字符是否在列表中\n",
    "# 结果是布尔值\n",
    "list1 = [i for i in range(1,10)]\n",
    "rst1 = 'a' in list1\n",
    "rst2 = 'a' not in list1\n",
    "print(rst1)\n",
    "print(rst2)"
   ]
  },
  {
   "cell_type": "markdown",
   "metadata": {},
   "source": [
    "## 列表和字符串的可变性"
   ]
  },
  {
   "cell_type": "code",
   "execution_count": 67,
   "metadata": {},
   "outputs": [
    {
     "name": "stdout",
     "output_type": "stream",
     "text": [
      "t\n"
     ]
    }
   ],
   "source": [
    "# 跟列表类似，字符串也可用通过下标访问其中的字符\n",
    "rst5 = 'hello this is a test'\n",
    "print(rst5[6])"
   ]
  },
  {
   "cell_type": "markdown",
   "metadata": {},
   "source": [
    "- 注意一个明显的区别，字符串是不可变的，列表是可变的"
   ]
  },
  {
   "cell_type": "code",
   "execution_count": 66,
   "metadata": {},
   "outputs": [
    {
     "name": "stdout",
     "output_type": "stream",
     "text": [
      "4\n",
      "88\n"
     ]
    }
   ],
   "source": [
    "list1 = [i for i in range(1,10)]\n",
    "print(list1[3])\n",
    "list1[3] = 88\n",
    "print(list1[3])\n",
    "rst1 = 'hello this is a test'\n",
    "rst1[6] = 'tt'# 字符串是不能修改的会报错，想要修改字符串的值只能重新给字符串赋值"
   ]
  },
  {
   "cell_type": "code",
   "execution_count": 72,
   "metadata": {},
   "outputs": [
    {
     "name": "stdout",
     "output_type": "stream",
     "text": [
      "<class 'str'>\n",
      "['t', 'h', 'i', 's', ' ', 'i', 's', ' ', 'a', ' ', 't', 'e', 's', 't']\n"
     ]
    }
   ],
   "source": [
    "# 以下结果证明列表可以转换成字符串\n",
    "list1 = [i for i in range(1,10)]\n",
    "rst1 = str(list1)\n",
    "print(type(rst1))\n",
    "\n",
    "# 以下结果证明字符串也可以转换称为列表\n",
    "rst2 = 'this is a test'\n",
    "rst3 = list(rst2)\n",
    "print(rst3)"
   ]
  },
  {
   "cell_type": "code",
   "execution_count": 82,
   "metadata": {},
   "outputs": [
    {
     "name": "stdout",
     "output_type": "stream",
     "text": [
      "this\n",
      "this\n",
      "[1, 2, 3, 4, 5, 6, 7, 8, 9]\n",
      "[1, 2, 3, 4, 5, 6, 77, 8, 9]\n"
     ]
    }
   ],
   "source": [
    "# 字符串的不可变性\n",
    "# 注意另一个字符串的不可变性\n",
    "rst1 = 'this'\n",
    "rst2 = rst1\n",
    "print(rst2)\n",
    "rst1 = 'that'\n",
    "print(rst2) # rst2结果没有发生变化，只有重新给rst2赋值，他的值才会发生变化。\n",
    "\n",
    "# 列表的可变性\n",
    "list1 = [i for i in range(1,10)]\n",
    "list2 = list1\n",
    "print(list2)\n",
    "list1[6] = 77\n",
    "print(list2) # 在这里可以很明显的看到list2的值发生了变化，\n",
    "# 值的改变或者不改变跟python的执行顺序无关，只是因为字符串不可变而list可变。"
   ]
  },
  {
   "cell_type": "markdown",
   "metadata": {},
   "source": [
    "## 列表函数"
   ]
  },
  {
   "cell_type": "code",
   "execution_count": 98,
   "metadata": {},
   "outputs": [
    {
     "name": "stdout",
     "output_type": "stream",
     "text": [
      "12\n",
      "5667\n",
      "1\n",
      "[1, 1, 2, 3, 9, 11, 22, 23, 111, 765, 2323, 5667]\n",
      "[5667, 2323, 765, 111, 23, 22, 11, 9, 3, 2, 1, 1]\n",
      "[1, 1, 2, 3, 9, 11, 22, 23, 111, 765, 2323, 5667]\n",
      "['C', 'D', 'E', 'F', 'J', 'L', 'Q', 'V']\n",
      "['AaadV', 'Caa', 'Da', 'Ewwwwewe', 'J', 'Lasd', 'Qssss', 'aasdF']\n",
      "2032376617864\n",
      "2032376617544\n"
     ]
    }
   ],
   "source": [
    "list1 = [11,2323,22,1,111,23,5667,9,765,1,2,3]\n",
    "print(len(list1)) # 列表元素个数\n",
    "print(max(list1)) # 列表元素最大值\n",
    "print(min(list1)) # 列表元素最小值\n",
    "print(sorted(list1)) # 列表排序，从小到大\n",
    "print(sorted(list1,reverse = True)) # 列表排序，从大到小\n",
    "print(sorted(list1,reverse = False)) # 列表排序，从小到大\n",
    "\n",
    "# 字符串排序-sorted\n",
    "rst1 = ['C','Q','E','D','J','L','F','V']\n",
    "rst2 = ['Caa','Qssss','Ewwwwewe','Da','J','Lasd','aasdF','AaadV']\n",
    "print(sorted(rst1))\n",
    "print(sorted(rst2)) # 结果可以看出字符串排序是按照首字母去进行排序，且先排大写，然后排小写\n",
    "print(id(rst2))\n",
    "print(id(sorted(rst2))) # 结果可以看出，列表是个新的列表，并非原列表。"
   ]
  },
  {
   "cell_type": "code",
   "execution_count": 121,
   "metadata": {},
   "outputs": [
    {
     "name": "stdout",
     "output_type": "stream",
     "text": [
      "123456\n",
      "<class 'str'>\n",
      "1\n",
      "2\n",
      "3\n",
      "4\n",
      "5\n",
      "6\n",
      "<class 'str'>\n",
      "1~~~~~~~~~~~~~~~~~~2~~~~~~~~~~~~~~~~~~3~~~~~~~~~~~~~~~~~~4~~~~~~~~~~~~~~~~~~5~~~~~~~~~~~~~~~~~~6\n"
     ]
    }
   ],
   "source": [
    "# 列表的join方法\n",
    "list1 = ['1','2','3','4','5','6']\n",
    "list2 = ''.join(list1) # 相当于用空白替代了逗号\n",
    "list3 = '\\n'.join(list1) # 相当于用\\n这个换行符替代了逗号\n",
    "print(list2)\n",
    "print(type(list2))\n",
    "print(list3)\n",
    "print(type(list3))\n",
    "rst1 = '~~~~~~~~~~~~~~~~~~'.join(list1)\n",
    "print(rst1)"
   ]
  },
  {
   "cell_type": "code",
   "execution_count": 1,
   "metadata": {},
   "outputs": [
    {
     "name": "stdout",
     "output_type": "stream",
     "text": [
      "['this', 'is', 'a', 'test']\n"
     ]
    }
   ],
   "source": [
    "# 列表的append方法\n",
    "list1 = ['this','is','a']\n",
    "ele1 = 'test'\n",
    "list1.append(ele1)\n",
    "print(list1)\n",
    "# append不能一次添加两个元素！"
   ]
  },
  {
   "cell_type": "markdown",
   "metadata": {},
   "source": [
    "# <center>元组</center>"
   ]
  },
  {
   "cell_type": "markdown",
   "metadata": {},
   "source": [
    "- tuple\n",
    "- 相比于list是一个不可变的集合"
   ]
  },
  {
   "cell_type": "code",
   "execution_count": 3,
   "metadata": {},
   "outputs": [
    {
     "name": "stdout",
     "output_type": "stream",
     "text": [
      "10 20\n"
     ]
    }
   ],
   "source": [
    "tuple1 = (10,20)\n",
    "print(tuple1[0],tuple1[1])"
   ]
  },
  {
   "cell_type": "code",
   "execution_count": 5,
   "metadata": {},
   "outputs": [
    {
     "name": "stdout",
     "output_type": "stream",
     "text": [
      "<class 'tuple'>\n"
     ]
    }
   ],
   "source": [
    "# 元组不一定需要括号表示\n",
    "tuple2 = 1,2,3,4\n",
    "print(type(tuple2)) # 可以看到不带括号类型也是一个tuple"
   ]
  },
  {
   "cell_type": "code",
   "execution_count": 7,
   "metadata": {},
   "outputs": [
    {
     "name": "stdout",
     "output_type": "stream",
     "text": [
      "4\n",
      "5\n",
      "6\n"
     ]
    }
   ],
   "source": [
    "# 元组解包\n",
    "rst1 = 4,5,6\n",
    "chang,kuan,gao = rst1\n",
    "print(chang)\n",
    "print(kuan)\n",
    "print(gao)"
   ]
  },
  {
   "cell_type": "code",
   "execution_count": 9,
   "metadata": {},
   "outputs": [
    {
     "name": "stdout",
     "output_type": "stream",
     "text": [
      "长： 4 宽：5 高：6 体积是120\n"
     ]
    }
   ],
   "source": [
    "# format\n",
    "print(\"长： {} 宽：{} 高：{} 体积是{}\".format(chang,kuan,gao,chang * kuan * gao))"
   ]
  },
  {
   "cell_type": "markdown",
   "metadata": {},
   "source": [
    "# <center>集合和列表去重</center>"
   ]
  },
  {
   "cell_type": "markdown",
   "metadata": {},
   "source": [
    "- 集合 set是可变的，但是没有顺序，不会有重复的元素。"
   ]
  },
  {
   "cell_type": "code",
   "execution_count": 18,
   "metadata": {},
   "outputs": [
    {
     "name": "stdout",
     "output_type": "stream",
     "text": [
      "['11', '22', '33', '444', '22', '111', '1', '11', '1', '77', '7']\n",
      "{'444', '1', '22', '7', '77', '33', '11', '111'}\n",
      "('11', '22', '33', '444', '22', '111', '1', '11', '1', '77', '7')\n",
      "{'444', '1', '22', '7', '77', '33', '11', '111'}\n"
     ]
    }
   ],
   "source": [
    "# 把列表转换成集合，去掉重复数据\n",
    "list1 = ['11','22','33','444','22','111','1','11','1','77','7']\n",
    "tuple1 = '11','22','33','444','22','111','1','11','1','77','7'\n",
    "print(list1)\n",
    "list1 = set(list1) # 可以将list转换成set，直接去掉了重复的数据\n",
    "print(list1)\n",
    "\n",
    "print(tuple1)\n",
    "tuple1 = set(tuple1) # 可以将tuple转换成set，直接去掉了重复的数据\n",
    "print(tuple1)"
   ]
  },
  {
   "cell_type": "code",
   "execution_count": 46,
   "metadata": {},
   "outputs": [
    {
     "name": "stdout",
     "output_type": "stream",
     "text": [
      "False\n",
      "True\n",
      "False\n",
      "{1, 2, 3, 4, 5, 6, 7, 8, 9}\n",
      "{2, 3, 4, 5, 6, 7, 8, 9}\n"
     ]
    }
   ],
   "source": [
    "# 检测集合中是否存在元素\n",
    "print(22 in tuple1)\n",
    "print('22' in tuple1)\n",
    "print('111' not in tuple1)\n",
    "# 集合的add添加\n",
    "tuple3 = {1,2,3,4,5,6,7,8}\n",
    "tuple3.add(9)\n",
    "print(tuple3)\n",
    "# pop弹出元素\n",
    "tuple3.pop()\n",
    "print(tuple3)"
   ]
  },
  {
   "cell_type": "markdown",
   "metadata": {},
   "source": [
    "# <center>字典</center>"
   ]
  },
  {
   "cell_type": "markdown",
   "metadata": {},
   "source": [
    "- 有键有值"
   ]
  },
  {
   "cell_type": "code",
   "execution_count": 62,
   "metadata": {},
   "outputs": [
    {
     "name": "stdout",
     "output_type": "stream",
     "text": [
      "18\n",
      "dict_items([('name', 'doudou'), ('age', 18), ('sex', 'nan')])\n",
      "doudou\n",
      "None\n",
      "True\n",
      "False\n",
      "没有这个键\n"
     ]
    }
   ],
   "source": [
    "# 字典举例\n",
    "dict1 = {'name':'doudou','age':18,'sex':'nan'}\n",
    "print(dict1['age']) # 根据键打印值\n",
    "print(dict1.items()) # 枚举全部键值\n",
    "# get方法获取键的值，不会报错！\n",
    "print(dict1.get('name')) # 通过字典的get方法，也可以检查键的值\n",
    "print(dict1.get('balabala')) # 并且如果没有指定的键也不会报错，返回None！\n",
    "#以下这种方式判定，字典中有没有指定键的值存在，利用get方法。\n",
    "rst1 = dict1.get('this')\n",
    "print(rst1 is None)\n",
    "print(rst1 is not None)\n",
    "# get自定义返回值\n",
    "rst2 = dict1.get('qishi','没有这个键') # get后第二个参数为自定义的返回值\n",
    "print(rst2)"
   ]
  },
  {
   "cell_type": "code",
   "execution_count": 68,
   "metadata": {},
   "outputs": [
    {
     "name": "stdout",
     "output_type": "stream",
     "text": [
      "True True True\n",
      "True True False False\n"
     ]
    }
   ],
   "source": [
    "# = ， == ， is\n",
    "a = [1,2,3,4,5]\n",
    "b = a\n",
    "c = [1,2,3,4,5]\n",
    "print(a == b , a == c , b == c)\n",
    "print(a is b,b is a,c is b,c is a) # 这里可以看到is和=是不一样的"
   ]
  },
  {
   "cell_type": "markdown",
   "metadata": {},
   "source": [
    "# <center>复合数据结构</center>"
   ]
  },
  {
   "cell_type": "code",
   "execution_count": 91,
   "metadata": {},
   "outputs": [
    {
     "name": "stdout",
     "output_type": "stream",
     "text": [
      "dict_items([('people', {'name': 'doudou', 'age': 18, 'sex': 'nan'}), ('work', 'gongchengshi'), ('zhuangtai', 'good')])\n",
      "doudou\n"
     ]
    }
   ],
   "source": [
    "# \n",
    "fuhe1 = {'people':{'name':'doudou','age':18,'sex':'nan'},'work':'gongchengshi','zhuangtai':'good'}\n",
    "print(fuhe1.items())\n",
    "rst1 = fuhe1['people']['name'] # 获取字典内的字典\n",
    "print(rst1) "
   ]
  },
  {
   "cell_type": "markdown",
   "metadata": {},
   "source": [
    "# <center>控制流</center>"
   ]
  },
  {
   "cell_type": "code",
   "execution_count": 95,
   "metadata": {},
   "outputs": [
    {
     "name": "stdout",
     "output_type": "stream",
     "text": [
      "2\n"
     ]
    }
   ],
   "source": [
    "# 条件语句 if elif else\n",
    "a = 1\n",
    "b = 0\n",
    "if b == 0 :\n",
    "    a += 1\n",
    "print(a)"
   ]
  },
  {
   "cell_type": "markdown",
   "metadata": {},
   "source": [
    "# <center>复杂的布尔表达式</center>"
   ]
  },
  {
   "cell_type": "code",
   "execution_count": 97,
   "metadata": {},
   "outputs": [
    {
     "name": "stdout",
     "output_type": "stream",
     "text": [
      "不 ok\n"
     ]
    }
   ],
   "source": [
    "chang = 11\n",
    "kuan = 2\n",
    "gao = 3\n",
    "if 100 < chang * kuan * gao < 10000:\n",
    "    print(\"ok\")\n",
    "else:\n",
    "    print(\"不 ok\")"
   ]
  },
  {
   "cell_type": "markdown",
   "metadata": {},
   "source": [
    "# <center>循环</center>"
   ]
  },
  {
   "cell_type": "markdown",
   "metadata": {},
   "source": [
    "## for循环"
   ]
  },
  {
   "cell_type": "code",
   "execution_count": 117,
   "metadata": {},
   "outputs": [
    {
     "name": "stdout",
     "output_type": "stream",
     "text": [
      "['This', 'Is', 'A', 'Test']\n"
     ]
    }
   ],
   "source": [
    "# 将list的首字母大写\n",
    "list1 = ['this','is','a','test']\n",
    "list2 = []\n",
    "for i in list1:\n",
    "    list2.append(i.title())\n",
    "print(list2)"
   ]
  },
  {
   "cell_type": "markdown",
   "metadata": {},
   "source": [
    "# <center>range函数</center>"
   ]
  },
  {
   "cell_type": "code",
   "execution_count": 136,
   "metadata": {},
   "outputs": [
    {
     "name": "stdout",
     "output_type": "stream",
     "text": [
      "hello\n",
      "hello\n",
      "hello\n",
      "[1, 2, 3, 4, 5, 6, 7, 8, 9]\n",
      "[1, 4, 7, 10, 13, 16, 19, 22, 25, 28, 31, 34, 37, 40, 43, 46, 49, 52, 55, 58, 61, 64, 67, 70, 73, 76, 79, 82, 85, 88, 91, 94, 97]\n"
     ]
    }
   ],
   "source": [
    "# 循环体中执行10次\n",
    "for i in range(3):\n",
    "    print('hello')\n",
    "# range生成列表\n",
    "list1 = [i for i in range(1,10)]\n",
    "print(list1)\n",
    "# range中的参数\n",
    "rst1 = [i for i in range(1,100,3)]\n",
    "print(rst1)"
   ]
  },
  {
   "cell_type": "code",
   "execution_count": 144,
   "metadata": {},
   "outputs": [
    {
     "name": "stdout",
     "output_type": "stream",
     "text": [
      "['Dog', 'Monkey', 'Cat', 'Tiger', 'Elephant']\n"
     ]
    }
   ],
   "source": [
    "# 利用列表的长度进行循环，将列表元素的首字母大写。\n",
    "list1 = ['dog','monkey','cat','tiger','elephant']\n",
    "for index in range(len(list1)):\n",
    "    list1[index] = list1[index].title()\n",
    "print(list1)\n"
   ]
  },
  {
   "cell_type": "code",
   "execution_count": 149,
   "metadata": {},
   "outputs": [
    {
     "name": "stdout",
     "output_type": "stream",
     "text": [
      "['Han_Meimei', 'Li_Lei', 'Xiao_Ming', 'Zhang_Qiu', 'Ha_Li', 'Pi_Te', 'Ai_Hua']\n"
     ]
    }
   ],
   "source": [
    "# 将名字小写只有首字母大写，空格替换成下划线。\n",
    "names = ['HAN MEIMEI','LI LEI','XIAO MING','ZHANG QIU','HA LI','PI TE','AI HUA']\n",
    "list1 = []\n",
    "for name in names:\n",
    "    list1.append(name.lower().title().replace(\" \",\"_\"))\n",
    "print(list1)"
   ]
  },
  {
   "cell_type": "markdown",
   "metadata": {},
   "source": [
    "# <center>字典迭代</center>"
   ]
  },
  {
   "cell_type": "code",
   "execution_count": 9,
   "metadata": {},
   "outputs": [
    {
     "name": "stdout",
     "output_type": "stream",
     "text": [
      "dict_items([('name1', 'HAN MEIMEI'), ('name3', 'XIAO MING'), ('name2', 'LI LEI'), ('name6', 'PI TE'), ('name7', 'AI HUA'), ('name5', 'HA LI'), ('name4', 'ZHANG QIU')])\n",
      "这是第1个人，他的名字是HAN MEIMEI\n",
      "这是第3个人，他的名字是XIAO MING\n",
      "这是第2个人，他的名字是LI LEI\n",
      "这是第6个人，他的名字是PI TE\n",
      "这是第7个人，他的名字是AI HUA\n",
      "这是第5个人，他的名字是HA LI\n",
      "这是第4个人，他的名字是ZHANG QIU\n"
     ]
    }
   ],
   "source": [
    "# 迭代这个字典\n",
    "dict1 = {'name1':'HAN MEIMEI','name2':'LI LEI','name3':'XIAO MING','name4':'ZHANG QIU',\n",
    "         'name5':'HA LI','name6':'PI TE','name7':'AI HUA'}\n",
    "print(dict1.items())\n",
    "for key,value in dict1.items(): # 注意需要循环字典的.items()方法\n",
    "    print(\"这是第{}个人，他的名字是{}\".format(key.replace(\"name\",\"\"),value))\n",
    "# 需要注意结果，python有的版本字典是有序的，有的版本字典是无序的。"
   ]
  },
  {
   "cell_type": "markdown",
   "metadata": {
    "collapsed": true
   },
   "source": [
    "# <center>while循环</center>"
   ]
  },
  {
   "cell_type": "code",
   "execution_count": 12,
   "metadata": {},
   "outputs": [
    {
     "name": "stdout",
     "output_type": "stream",
     "text": [
      "[]\n",
      "[12]\n",
      "[12, 11]\n",
      "[12, 11, 10]\n",
      "[12, 11, 10, 9]\n",
      "[12, 11, 10, 9, 8]\n",
      "--------------------\n",
      "[1, 2, 3, 4, 5, 6]\n",
      "[12, 11, 10, 9, 8, 7]\n"
     ]
    }
   ],
   "source": [
    "# while循环\n",
    "list1 = [i for i in range(1,13)]\n",
    "list2 = []\n",
    "while sum(list2) <= 50:\n",
    "    print(list2)\n",
    "    list2.append(list1.pop()) # 将list1的内容pop拿出，append到list2中，当list2超过50，停止循环。\n",
    "print(\"-\" * 20)\n",
    "print(list1)\n",
    "print(list2)\n",
    "    "
   ]
  },
  {
   "cell_type": "code",
   "execution_count": 5,
   "metadata": {},
   "outputs": [
    {
     "name": "stdout",
     "output_type": "stream",
     "text": [
      "请输入字符a\n"
     ]
    }
   ],
   "source": [
    "# break中断\n",
    "# 这是一个有条件结束否则无限的循环\n",
    "while True:\n",
    "    text1 = input(\"请输入字符\")\n",
    "    if text1 == 'q': # 当输入q的时候停止循环\n",
    "        break\n",
    "    else:\n",
    "        print(text1.capitalize()) # 否则继续循环并且将输入内容首字母大写"
   ]
  },
  {
   "cell_type": "code",
   "execution_count": 26,
   "metadata": {},
   "outputs": [
    {
     "name": "stdout",
     "output_type": "stream",
     "text": [
      "请输入内容1\n",
      "输入的字符1是一个奇数\n",
      "请输入内容2\n",
      "输入的字符2是一个偶数\n",
      "请输入内容q\n"
     ]
    }
   ],
   "source": [
    "# continue 跳过循环\n",
    "\n",
    "while True:\n",
    "    number1 = input(\"请输入内容\") # 注意这个如果放在循环体外面，就会无限循环卡死！\n",
    "    if number1 == 'q': # 当输入q的时候结束循环\n",
    "        break\n",
    "    else:\n",
    "        number2 = int(number1)\n",
    "        if number2 % 2 == 0:\n",
    "            print('输入的字符{}是一个偶数'.format(number2))\n",
    "            continue\n",
    "        else:\n",
    "            print('输入的字符{}是一个奇数'.format(number2))"
   ]
  },
  {
   "cell_type": "markdown",
   "metadata": {
    "collapsed": true
   },
   "source": [
    "# <center>zip迭代器</center>"
   ]
  },
  {
   "cell_type": "markdown",
   "metadata": {},
   "source": [
    "- 相当于迭代之后再组合"
   ]
  },
  {
   "cell_type": "code",
   "execution_count": 40,
   "metadata": {},
   "outputs": [
    {
     "data": {
      "text/plain": [
       "[('zhang qiu', 11),\n",
       " ('xiao wang', 12),\n",
       " ('qian duoduo', 13),\n",
       " ('sun xiaogang', 14),\n",
       " ('liu mei', 17),\n",
       " ('a da', 11),\n",
       " ('lao er', 19),\n",
       " ('xing xing', 21)]"
      ]
     },
     "execution_count": 40,
     "metadata": {},
     "output_type": "execute_result"
    }
   ],
   "source": [
    "# zip迭代器\n",
    "# 将两个列表组合在一起\n",
    "names = ['zhang qiu','xiao wang','qian duoduo','sun xiaogang','liu mei','a da','lao er','xing xing']\n",
    "ages = [11,12,13,14,17,11,19,21]\n",
    "list(zip(names,ages)) # 以list方式把zip迭代器的东西展示出来，也可以用set\n",
    "# 如果两个列表的顺序对不上也不会报错"
   ]
  },
  {
   "cell_type": "code",
   "execution_count": 62,
   "metadata": {},
   "outputs": [
    {
     "name": "stdout",
     "output_type": "stream",
     "text": [
      "出场顺序1名字zhangqiu\n",
      "出场顺序2名字xiaowang\n",
      "出场顺序3名字qianduoduo\n",
      "出场顺序4名字sunxiaogang\n",
      "出场顺序5名字liumei\n",
      "出场顺序6名字ada\n",
      "出场顺序7名字laoer\n",
      "出场顺序8名字xingxing\n"
     ]
    }
   ],
   "source": [
    "# 打印出顺序id和名字\n",
    "names = ['                   zhang qiu','xiao wang','qian duoduo','sun xiaogang','liu mei','a da','lao er','xing xing']\n",
    "for i,name in zip(range(len(names)),names): # range(len(names))的意思是先计算出names的长度，然后用range函数，计算0-x。\n",
    "    print(\"出场顺序{}名字{}\".format(i + 1,name).replace(\" \",\"\"))"
   ]
  },
  {
   "cell_type": "code",
   "execution_count": 81,
   "metadata": {},
   "outputs": [
    {
     "name": "stdout",
     "output_type": "stream",
     "text": [
      "[((1, 'zhang qiu'),), ((2, 'xiao wang'),), ((3, 'qian duoduo'),), ((4, 'sun xiaogang'),), ((5, 'liu mei'),), ((6, 'a da'),), ((7, 'lao er'),), ((8, 'xing xing'),)]\n",
      "--------------------\n",
      "1 zhang qiu\n",
      "2 xiao wang\n",
      "3 qian duoduo\n",
      "4 sun xiaogang\n",
      "5 liu mei\n",
      "6 a da\n",
      "7 lao er\n",
      "8 xing xing\n"
     ]
    }
   ],
   "source": [
    "# 上面例子简易方式，直接利用函数enumerate即可\n",
    "names = ['zhang qiu','xiao wang','qian duoduo','sun xiaogang','liu mei','a da','lao er','xing xing']\n",
    "print(list(zip(enumerate(names,1)))) # 注意1是从几开始，默认是从0开始\n",
    "print(\"-\" * 20)\n",
    "# 上面的有好几个括号，应该是不对，可以用enumerate直接替代range试一下\n",
    "for i,name in enumerate(names,1):\n",
    "    print(i,name)"
   ]
  },
  {
   "cell_type": "code",
   "execution_count": 94,
   "metadata": {},
   "outputs": [
    {
     "name": "stdout",
     "output_type": "stream",
     "text": [
      "[('zhang qiu', 11), ('xiao wang', 12), ('qian duoduo', 13), ('sun xiaogang', 14), ('liu mei', 17), ('a da', 11), ('lao er', 19), ('xing xing', 21)]\n",
      "<class 'list'>\n"
     ]
    }
   ],
   "source": [
    "# 反向zip\n",
    "names = ['zhang qiu','xiao wang','qian duoduo','sun xiaogang','liu mei','a da','lao er','xing xing']\n",
    "ages = [11,12,13,14,17,11,19,21]\n",
    "list1 = list(zip(names,ages))\n",
    "print(list1) # 现在list1已经变成了有一对元素的列表，现在把他拆开 ，只留name\n",
    "names1,ages1 = list(zip(*list1)) # 这就是反向zip，依然使用zip函数，但是zip函数里多个一个*号\n",
    "names1 = list(names1)\n",
    "print(type(names1))"
   ]
  },
  {
   "cell_type": "markdown",
   "metadata": {},
   "source": [
    "## 练习题"
   ]
  },
  {
   "cell_type": "code",
   "execution_count": 39,
   "metadata": {},
   "outputs": [
    {
     "name": "stdout",
     "output_type": "stream",
     "text": [
      "请输入想要购买的商品名称：苹果\n",
      "请输入想要购买该商品的数量：1\n",
      "请输入想要购买的商品名称：q\n",
      "结束购物！\n",
      "\n",
      "        名称 ：('苹果',)\n",
      "        数量 ：(1,)\n",
      "        单价 ：('1.2',)\n",
      "        单品总价 ：(1.2,)\n",
      "        采购时间 ：('2020年03月02 17:54:30',)\n",
      "        全部总价 ：1.2\n",
      "        \n"
     ]
    }
   ],
   "source": [
    "# 购物test\n",
    "# 输入按钮输入商品名称和数量，然后从已有列表中查找对应的金额，计算总价，打印出一个购物清单，\n",
    "# 并且要加上添加进去的时间。\n",
    "import time\n",
    "shangpinliebiao = {'苹果':'1.2','菠萝':'2.4','香蕉':'3.3','葡萄':'5.6',\n",
    "                   '草莓':'10.12','西瓜':'3.8','橘子':'2.2','桃子':'7.1'}\n",
    "srmingcheng = [] #商品名称\n",
    "shangpindanjia = [] # 商品单价\n",
    "srshuliang = [] # 商品数量\n",
    "danpinzongjia = [] # 单品总价\n",
    "currenttime = [] # 当前时间\n",
    "quanbuzongjia = [] #全部总价\n",
    "\n",
    "\n",
    "while True:\n",
    "    inputmingcheng = input(\"请输入想要购买的商品名称：\")\n",
    "    if inputmingcheng in shangpinliebiao :\n",
    "        # 查询输入商品的价格是多少\n",
    "        cxshangpinjiage = shangpinliebiao[inputmingcheng]\n",
    "        # 输入想要购买的数量\n",
    "        inputshuliang = int(input(\"请输入想要购买该商品的数量：\"))\n",
    "        # 计算单品总价\n",
    "        jsdanpinzongjia = round(inputshuliang * float(cxshangpinjiage),2)\n",
    "        # 查询当前时间\n",
    "        cxdangqianshijian = time.strftime(\"%Y{}%m{}%d %H:%M:%S\",time.localtime()).format(\"年\",\"月\",\"日\")\n",
    "        # 名称加进列表\n",
    "        srmingcheng.append(inputmingcheng)\n",
    "        # 单价加进列表\n",
    "        shangpindanjia.append(cxshangpinjiage)\n",
    "        # 数量加进列表\n",
    "        srshuliang.append(inputshuliang)\n",
    "        # 单品总价加进列表\n",
    "        danpinzongjia.append(jsdanpinzongjia)\n",
    "        # 当前时间加进列表\n",
    "        currenttime.append(cxdangqianshijian)\n",
    "        # 计算全部总价\n",
    "        quanbuzongjia = sum(danpinzongjia)\n",
    "    elif inputmingcheng == 'q':\n",
    "        print(\"结束购物！\")\n",
    "#         print(srmingcheng)\n",
    "#         print(srshuliang)\n",
    "#         print(shangpindanjia)\n",
    "#         print(danpinzongjia)\n",
    "#         print(currenttime)\n",
    "#         print(quanbuzongjia)\n",
    "        listxiangdan = list(zip(srmingcheng,srshuliang,shangpindanjia,danpinzongjia,currenttime))\n",
    "        scshipinmingcheng,scshipinshuliang,shuchushipindanjia,shuchudanpinzongjia,shuchucurrenttime = zip(*listxiangdan)\n",
    "        print('''\n",
    "        名称 ：{0}\n",
    "        数量 ：{1}\n",
    "        单价 ：{2}\n",
    "        单品总价 ：{3}\n",
    "        采购时间 ：{4}\n",
    "        全部总价 ：{5}\n",
    "        '''.format(scshipinmingcheng,scshipinshuliang,shuchushipindanjia,shuchudanpinzongjia,shuchucurrenttime,quanbuzongjia))\n",
    "        break\n",
    "    else:\n",
    "        print(\"输入的商品名称有误，请重新输入！\")\n"
   ]
  },
  {
   "cell_type": "code",
   "execution_count": 43,
   "metadata": {},
   "outputs": [
    {
     "data": {
      "text/plain": [
       "{1: 'a', 2: 'b', 3: 'c', 4: 'd', 5: 'e'}"
      ]
     },
     "execution_count": 43,
     "metadata": {},
     "output_type": "execute_result"
    }
   ],
   "source": [
    "# 利用zip将列表组合成字典\n",
    "list1 = [1,2,3,4,5]\n",
    "list2 = ['a','b','c','d','e']\n",
    "dict(zip(list1,list2))"
   ]
  },
  {
   "cell_type": "markdown",
   "metadata": {},
   "source": [
    "# <center>列表推导式</center>"
   ]
  },
  {
   "cell_type": "code",
   "execution_count": 13,
   "metadata": {},
   "outputs": [
    {
     "name": "stdout",
     "output_type": "stream",
     "text": [
      "[1, 2, 3, 4, 5, 6, 7, 8, 9, 10]\n",
      "[1, 2, 3, 4, 5, 6, 7, 8, 9, 10]\n",
      "[1, 2, 3, 4, 5, 6, 7, 8, 9, 10]\n",
      "[11, 4, 13, 16, 15, 36, 17, 64, 19]\n"
     ]
    }
   ],
   "source": [
    "# 把1-10加进一个空的列表\n",
    "list1 = []\n",
    "for i in range(1,11):\n",
    "    list1.append(i)\n",
    "print(list1)\n",
    "# 另一种方式\n",
    "list2 = list(range(1,11))\n",
    "print(list2)\n",
    "# 另外一种方式\n",
    "list3 = [i for i in range(1,11)]\n",
    "print(list3)\n",
    "\n",
    "# 带条件的列表推导式\n",
    "list4 = [i * i # 整个列表是计算 i * i\n",
    "         if i % 2 == 0 # 条件是如果i是个偶数就执行i * i\n",
    "         else i + 10 # 否则就把i + 10\n",
    "         for i in range(1,10) # i的原始值是1 - 9\n",
    "    ]\n",
    "print(list4)"
   ]
  },
  {
   "cell_type": "markdown",
   "metadata": {},
   "source": [
    "# <center>补充函数</center>"
   ]
  },
  {
   "cell_type": "markdown",
   "metadata": {},
   "source": [
    "- split() 一个在数据处理中有重要地位的函数，将字符串拆分成列表，但是注意只能拆分字符串。"
   ]
  },
  {
   "cell_type": "code",
   "execution_count": 25,
   "metadata": {},
   "outputs": [
    {
     "name": "stdout",
     "output_type": "stream",
     "text": [
      "['this', 'is', 'a', 'test']\n",
      "<class 'list'>\n",
      "['', 'this is test1', 'this is test2']\n",
      "<class 'list'>\n",
      "['This \\t is \\t a \\t Test']\n",
      "<class 'list'>\n",
      "['this', 'is', 'a', 'test']\n",
      "<class 'list'>\n",
      "['this', 'is', 'a', 'test']\n",
      "<class 'list'>\n",
      "['this', 'is:a:test']\n",
      "<class 'list'>\n"
     ]
    }
   ],
   "source": [
    "# split() 拆分一个字符串，中间有空格就拆分，形成一个list\n",
    "text1 = 'this is a test'\n",
    "rst1 = text1.split()\n",
    "print(rst1)\n",
    "print(type(rst1))\n",
    "# splitlines是将多行的字符串拆分成list\n",
    "text2 = '''\n",
    "this is test1\n",
    "this is test2\n",
    "'''\n",
    "rst2 = text2.splitlines()\n",
    "print(rst2)\n",
    "print(type(rst2))\n",
    "\n",
    "# \\t和\\n的举例\n",
    "text3 = 'This \\t is \\t a \\t Test' # 很奇怪 这个版本拆分不出来。。\n",
    "text4 = 'this\\nis\\na\\ntest'\n",
    "rst3 = text3.splitlines()\n",
    "print(rst3)\n",
    "print(type(rst3))\n",
    "rst4 = text4.splitlines()\n",
    "print(rst4)\n",
    "print(type(rst4))\n",
    "\n",
    "# split可以带参数，这样就会以指定字符作为拆分标记\n",
    "text5 = 'this:is:a:test'\n",
    "rst5 = text5.split(\":\")\n",
    "print(rst5)\n",
    "print(type(rst5))\n",
    "\n",
    "# split可以带两个参数，第二个参数是将字符串切成列表时分为几部分，如果参数是1就是两部分，\n",
    "# 从第一个指定分隔符开始切分，后面不再切分\n",
    "text6 = 'this:is:a:test'\n",
    "rst6 = text5.split(\":\",1)\n",
    "print(rst6)\n",
    "print(type(rst6))"
   ]
  },
  {
   "cell_type": "markdown",
   "metadata": {
    "collapsed": true
   },
   "source": [
    "## 列表推导式练习题"
   ]
  },
  {
   "cell_type": "code",
   "execution_count": 11,
   "metadata": {},
   "outputs": [
    {
     "name": "stdout",
     "output_type": "stream",
     "text": [
      "[['li', 'lei'], ['han', 'meimei'], ['gao', 'qiu'], ['zhao', 'zhen'], ['qian', 'duoduo'], ['sun', 'zi'], ['liu', 'xiang']]\n",
      "['Li', 'Han', 'Gao', 'Zhao', 'Qian', 'Sun', 'Liu']\n"
     ]
    }
   ],
   "source": [
    "# 从客户清单中提取出他的姓,并且首字母大写\n",
    "names = ['li lei','han meimei','gao qiu','zhao zhen','qian duoduo','sun zi','liu xiang']\n",
    "strnames1 = [name.split() for name in names] # for name in names是先将names列表循环，然后name.split()是将列表拆分\n",
    "strnames2 = [name.split()[0].title() for name in names]# 拆分后的每一组取下标为0的元素保留,用title方法将首字母大写\n",
    "print(strnames1)\n",
    "print(strnames2)"
   ]
  },
  {
   "cell_type": "code",
   "execution_count": 31,
   "metadata": {},
   "outputs": [
    {
     "name": "stdout",
     "output_type": "stream",
     "text": [
      "['li lei', 'han meimei', 'gao qiu', 'zhao zhen']\n"
     ]
    }
   ],
   "source": [
    "# 信贷打分筛选\n",
    "# 挑选出信用质量大于60分的人\n",
    "scores_card = {'li lei':61,'han meimei':76,'gao qiu':80,'zhao zhen':91,'qian duoduo':32,'sun zi':59,'liu xiang':48}\n",
    "ok_card = [name for name,score in scores_card.items() if score >= 60]\n",
    "print(ok_card)"
   ]
  },
  {
   "cell_type": "markdown",
   "metadata": {},
   "source": [
    "# <center>自定义函数</center>"
   ]
  },
  {
   "cell_type": "markdown",
   "metadata": {},
   "source": [
    "- 自定义函数的构成：\n",
    "    - def关键字\n",
    "    - add是函数名称\n",
    "    - num1和num2是参数，可有可没有\n",
    "    - 函数主体，可以没有\n",
    "    - 返回值，默认是None"
   ]
  },
  {
   "cell_type": "code",
   "execution_count": 47,
   "metadata": {},
   "outputs": [
    {
     "name": "stdout",
     "output_type": "stream",
     "text": [
      "7\n",
      "5\n",
      "6\n",
      "6.0\n",
      "--------------------\n",
      "23\n",
      "15\n"
     ]
    }
   ],
   "source": [
    "# 自定义函数加减乘除\n",
    "def add(num1,num2):\n",
    "    pass\n",
    "    return num1 + num2\n",
    "def jian(num1,num2):\n",
    "    return num1 - num2\n",
    "def cheng(num1,num2):\n",
    "    return num1 * num2\n",
    "def chu(num1,num2):\n",
    "    return num1 / num2\n",
    "print(add(6,1))\n",
    "print(jian(6,1))\n",
    "print(cheng(6,1))\n",
    "print(chu(6,1))\n",
    "# \n",
    "print(\"-\" * 20)\n",
    "#自定义函数的默认参数，可以给参数赋值\n",
    "def def1(a,b = 11):\n",
    "    return a + b\n",
    "print(def1(12)) # 结果变成了12 + 11\n",
    "print(def1(12,3)) #结果变成了12 + 3"
   ]
  },
  {
   "cell_type": "code",
   "execution_count": 92,
   "metadata": {},
   "outputs": [
    {
     "name": "stdout",
     "output_type": "stream",
     "text": [
      "2 7 17\n",
      "957天转换成剩余天数2年7月17天\n"
     ]
    }
   ],
   "source": [
    "# test-计算贷款到期剩余天数\n",
    "import math\n",
    "def daikuanshengyu(days):\n",
    "    year = days // 365 # 将天数换算成年-注意 // 代表整除，不足一年就是0，超过一年就是1\n",
    "    month = (days % 365 ) // 30\n",
    "    day = (days % 365) % 30\n",
    "    shengyutianshu = \"{}天转换成剩余天数{}年{}月{}天\".format(days,year,month,day)\n",
    "    print(year,month,day)\n",
    "    return shengyutianshu\n",
    "print(daikuanshengyu(957))"
   ]
  },
  {
   "cell_type": "markdown",
   "metadata": {},
   "source": [
    "# <center>写文档</center>"
   ]
  },
  {
   "cell_type": "markdown",
   "metadata": {},
   "source": [
    "- 在代码中使用\"\"\" xxxxx \"\"\"的方式写一个文档\n",
    "- 在调用的时候使用 .__doc__的方式调用即可打印文档"
   ]
  },
  {
   "cell_type": "code",
   "execution_count": 104,
   "metadata": {},
   "outputs": [
    {
     "name": "stdout",
     "output_type": "stream",
     "text": [
      "2.5\n"
     ]
    },
    {
     "data": {
      "text/plain": [
       "'这个PE函数的作用是。。。INPUT:Price：作用是Earning：作用是OUTPUT：PE：Price/Earning'"
      ]
     },
     "execution_count": 104,
     "metadata": {},
     "output_type": "execute_result"
    }
   ],
   "source": [
    "def PE(Price,Earning):\n",
    "    \"\"\"这个PE函数的作用是。。。\n",
    "       \n",
    "        INPUT: \n",
    "        Price：作用是\n",
    "        Earning：作用是\n",
    "        \n",
    "        OUTPUT：\n",
    "        PE：Price/Earning\n",
    "    \"\"\"\n",
    "    PE = Price/Earning\n",
    "    return print(PE)\n",
    "\n",
    "PE(50,20)\n",
    "PE.__doc__.replace(\" \",\"\").replace(\"\\n\",\"\")"
   ]
  },
  {
   "cell_type": "markdown",
   "metadata": {},
   "source": [
    "# <center>Lambda表达式</center>"
   ]
  },
  {
   "cell_type": "markdown",
   "metadata": {},
   "source": [
    "- 相当于创建一个匿名函数，快速创建，直接调用。\n",
    "    - 对于高阶函数，Lambda比较易用"
   ]
  },
  {
   "cell_type": "code",
   "execution_count": 112,
   "metadata": {},
   "outputs": [
    {
     "name": "stdout",
     "output_type": "stream",
     "text": [
      "--------------------\n",
      "3\n",
      "6\n"
     ]
    }
   ],
   "source": [
    "# 写一个自定义函数，这样很麻烦，比如说写一个做加法的函数\n",
    "def add(a,b):\n",
    "    rst1 = a + b\n",
    "    return print(rst1)\n",
    "#########################################################\n",
    "print(\"-\" * 20)\n",
    "# 利用lambda表达式\n",
    "supper_add1 = lambda num1,num2:num1 + num2\n",
    "supper_add2 = lambda num1,num2:print(num1 + num2)\n",
    "supper_add1(1,2)\n",
    "supper_add2(1,2)\n",
    "# 利用Lambda表达式做一个乘法\n",
    "super_cheng = lambda num1,num2:print(num1 * num2)\n",
    "super_cheng(2,3)"
   ]
  },
  {
   "cell_type": "markdown",
   "metadata": {},
   "source": [
    "## 高阶内置函数"
   ]
  },
  {
   "cell_type": "code",
   "execution_count": 11,
   "metadata": {},
   "outputs": [
    {
     "name": "stdout",
     "output_type": "stream",
     "text": [
      "['li lei', 'gao qiu', 'sun zi']\n",
      "['gao qiu']\n",
      "____________________\n",
      "['li lei', 'gao qiu', 'sun zi']\n",
      "['gao qiu']\n"
     ]
    }
   ],
   "source": [
    "# 高阶内置函数- filter()\n",
    "\n",
    "# 名字列表\n",
    "names = ['li lei','han meimei','gao qiu','zhao zhen','qian duoduo','sun zi','liu xiang']\n",
    "\n",
    "# 做一个白名单规则，名字长度不超过8进白名单\n",
    "def white_name(name):\n",
    "    return len(name) < 8\n",
    "# filter 其中white_name是需要过滤的条件，后面是一个可迭代的对象\n",
    "white_name_list = list(filter(white_name,names))\n",
    "print(white_name_list)\n",
    "\n",
    "\n",
    "#下面其中gao qiu这个名字被拉进了黑名单，但是还是在列表中，怎么把它去除掉过滤掉gao qiu的名字\n",
    "def panduan_gaoqiu (name):\n",
    "    return name == 'gao qiu'\n",
    "black_name_list = list(filter(panduan_gaoqiu,names))\n",
    "print(black_name_list)\n",
    "#####################################\n",
    "print(\"_\" * 20)\n",
    "# 利用lambda实现上面的功能\n",
    "white_name_list_lambda= (list(filter(lambda x:len(x)< 8,names)))\n",
    "print(white_name_list_lambda)\n",
    "black_name_list_lambda = list(filter(lambda x:x == 'gao qiu',names))\n",
    "print(black_name_list_lambda)"
   ]
  },
  {
   "cell_type": "code",
   "execution_count": 5,
   "metadata": {},
   "outputs": [
    {
     "name": "stdout",
     "output_type": "stream",
     "text": [
      "[1, 4, 9, 16, 25, 36, 49, 64, 81]\n",
      "[1, 4, 9, 16, 25, 36, 49, 64, 81]\n"
     ]
    }
   ],
   "source": [
    "# 高阶内置函数map()\n",
    "# 利用平方的函数，将list1的全部进行平方操作\n",
    "def pingfang(num1):\n",
    "    return num1 ** 2\n",
    "list1 = [i for i in range(1,10)]\n",
    "rst1 = list(map(pingfang,list1)) # 需要注意的是map返回是可迭代的，需要把它迭代出来，或者把它变成一个list展示出来\n",
    "print(rst1)\n",
    "\n",
    "# 利用lambda表达式实现上面功能\n",
    "rst1_lambda = list(map(lambda x:x**2,list1))\n",
    "print(rst1_lambda)"
   ]
  },
  {
   "cell_type": "code",
   "execution_count": 3,
   "metadata": {},
   "outputs": [
    {
     "name": "stdout",
     "output_type": "stream",
     "text": [
      "[3.3, 5.9, 8.3]\n",
      "[3.3, 5.9, 8.3]\n"
     ]
    }
   ],
   "source": [
    "# 假设列表中存放的是不同地区每个机构的评分表\n",
    "# 计算每个地区平均的评分\n",
    "score_card1 = [[2,3,4,1,2,3,5,6,5,2],[5,6,7,5,5,7,6,7,5,6],[8,9,8,7,8,9,8,9,9,8]]\n",
    "\n",
    "# 平均数函数\n",
    "def pingjun(score):\n",
    "    return sum(score)/len(score)\n",
    "\n",
    "pingjun_card = list(map(pingjun,score_card1))\n",
    "print(pingjun_card)\n",
    "\n",
    "# 利用lambda实现上述功能\n",
    "pingjun_lambda = list(map(lambda x:sum(x)/len(x),score_card1))\n",
    "print(pingjun_lambda)\n"
   ]
  },
  {
   "cell_type": "markdown",
   "metadata": {
    "collapsed": true
   },
   "source": [
    "# <center>迭代器和生成器</center>"
   ]
  },
  {
   "cell_type": "markdown",
   "metadata": {},
   "source": [
    "- iterator ：迭代器\n",
    "    - 迭代器可以返回一个可迭代的对象比如list\n",
    "- generator ：生成器\n",
    "    - 生成器可以用函数的方式创建出迭代器"
   ]
  },
  {
   "cell_type": "markdown",
   "metadata": {},
   "source": [
    "## 迭代器"
   ]
  },
  {
   "cell_type": "markdown",
   "metadata": {},
   "source": [
    "- 每次都可以返回一个对象元素的对象"
   ]
  },
  {
   "cell_type": "code",
   "execution_count": 26,
   "metadata": {},
   "outputs": [
    {
     "name": "stdout",
     "output_type": "stream",
     "text": [
      "(1, 1)\n",
      "(2, 2)\n",
      "(3, 3)\n",
      "(4, 4)\n",
      "(5, 5)\n",
      "(6, 6)\n",
      "(7, 7)\n",
      "(8, 8)\n",
      "(9, 9)\n",
      "<enumerate object at 0x0000016FF190AD38>\n",
      "[(0, 1), (1, 2), (2, 3), (3, 4), (4, 5), (5, 6), (6, 7), (7, 8), (8, 9)]\n"
     ]
    }
   ],
   "source": [
    "# enumerate就是一个迭代器-功能是列举，报数\n",
    "list1 = [1,2,3,4,5,6,7,8,9]\n",
    "for i in enumerate(list1,1):\n",
    "    print(i)\n",
    "rst1 = enumerate(list1) # 从结果可以看出，结果输入的是一个数据流\n",
    "print(rst1)\n",
    "rst2 = list(enumerate(list1)) # 需要放到list或其他的序列中才可以展示\n",
    "print(rst2)"
   ]
  },
  {
   "cell_type": "markdown",
   "metadata": {
    "collapsed": true
   },
   "source": [
    "## 生成器"
   ]
  },
  {
   "cell_type": "markdown",
   "metadata": {},
   "source": [
    "- 注意循环的返回不是retrun 而是yield！\n",
    "    - 也可以此去判断是否是一个生成器？"
   ]
  },
  {
   "cell_type": "code",
   "execution_count": 36,
   "metadata": {},
   "outputs": [
    {
     "name": "stdout",
     "output_type": "stream",
     "text": [
      "[0, 1, 2, 3, 4, 5, 6, 7, 8, 9]\n",
      "\n",
      "    my_range:这个函数是我自己写的一个函数，跟range同等功能。\n",
      "    \n"
     ]
    }
   ],
   "source": [
    "# 使用生成器生成迭代器\n",
    "# 自己创造一个range函数\n",
    "def my_range(x):\n",
    "    '''\n",
    "    my_range:这个函数是我自己写的一个函数，跟range同等功能。\n",
    "    '''\n",
    "    a = 0\n",
    "    while a < x:\n",
    "        yield a # 需要注意：先返回，再加1，否则就从1开始了\n",
    "        a += 1\n",
    "list1 = [i for i in my_range(10)]\n",
    "print(list1)\n",
    "print(my_range.__doc__)"
   ]
  },
  {
   "cell_type": "markdown",
   "metadata": {},
   "source": [
    "- 上面的生成器写完时，就会返回一个迭代器"
   ]
  },
  {
   "cell_type": "code",
   "execution_count": 44,
   "metadata": {},
   "outputs": [
    {
     "name": "stdout",
     "output_type": "stream",
     "text": [
      "<generator object my_range at 0x0000016FF19B2468>\n",
      "[0, 1, 2, 3, 4, 5, 6, 7, 8, 9, 10]\n"
     ]
    }
   ],
   "source": [
    "print(my_range(11)) # 这里可以看到类型是generator 也就是一个生成器\n",
    "print(list(my_range(11))) # 将数据流打印出来"
   ]
  },
  {
   "cell_type": "markdown",
   "metadata": {
    "collapsed": true
   },
   "source": [
    "- 相比于写一个for循环来说使用生成器的速度执行一个1-10会很快。"
   ]
  },
  {
   "cell_type": "markdown",
   "metadata": {
    "collapsed": true
   },
   "source": [
    "## 自己编写一个迭代器-my_enumerate"
   ]
  },
  {
   "cell_type": "code",
   "execution_count": 16,
   "metadata": {},
   "outputs": [
    {
     "name": "stdout",
     "output_type": "stream",
     "text": [
      "[(2, 'li lei'), (3, 'han meimei'), (4, 'gao qiu'), (5, 'zhao zhen'), (6, 'ming ren'), (7, 'a kun')]\n",
      "1 li lei\n",
      "2 han meimei\n",
      "3 gao qiu\n",
      "4 zhao zhen\n",
      "5 ming ren\n",
      "6 a kun\n"
     ]
    }
   ],
   "source": [
    "list_name = ['li lei','han meimei','gao qiu','zhao zhen','ming ren','a kun']\n",
    "def my_enumerate(list_x,id_start =0):\n",
    "    count = id_start\n",
    "    a = 0\n",
    "    for i in list_x:\n",
    "        yield count,i\n",
    "        count += 1\n",
    "        \n",
    "# print(my_enumerate(list_name)) # 结果可知这是一个生成器\n",
    "print(list(my_enumerate(list_name,2)))\n",
    "\n",
    "for i,name in my_enumerate(list_name):\n",
    "    print( i+ 1,name)\n",
    "    "
   ]
  },
  {
   "cell_type": "markdown",
   "metadata": {
    "collapsed": true
   },
   "source": [
    "- 因为考虑到计算机性能个问题，假设range(1,100)计算机一次处理不了，这个时候就要分步执行。\n",
    "- 可以利用自己创建的生成器去完成功能。"
   ]
  },
  {
   "cell_type": "code",
   "execution_count": 67,
   "metadata": {},
   "outputs": [
    {
     "name": "stdout",
     "output_type": "stream",
     "text": [
      "[1, 2, 3, 4, 5, 6, 7, 8, 9, 10, 11, 12, 13, 14, 15, 16, 17, 18, 19, 20]\n",
      "[21, 22, 23, 24, 25, 26, 27, 28, 29, 30, 31, 32, 33, 34, 35, 36, 37, 38, 39, 40]\n",
      "[41, 42, 43, 44, 45, 46, 47, 48, 49, 50, 51, 52, 53, 54, 55, 56, 57, 58, 59, 60]\n",
      "[61, 62, 63, 64, 65, 66, 67, 68, 69, 70, 71, 72, 73, 74, 75, 76, 77, 78, 79, 80]\n",
      "[81, 82, 83, 84, 85, 86, 87, 88, 89, 90, 91, 92, 93, 94, 95, 96, 97, 98, 99]\n"
     ]
    }
   ],
   "source": [
    "import time\n",
    "# 自己创建一个切分的函数\n",
    "def qiefen(xunhuanti,size = 20): \n",
    "    for i in range(0,len(xunhuanti),size): # 从0开始，到循环体的长度的值\n",
    "        time.sleep(1) # 循环间隔1秒，便于展示\n",
    "        yield xunhuanti[i:i+size] # 切分成列表，从i到i+size\n",
    "        \n",
    "for i in qiefen(range(1,100)):\n",
    "    print(list(i))"
   ]
  },
  {
   "cell_type": "markdown",
   "metadata": {
    "collapsed": true
   },
   "source": [
    "# <center>异常和错误</center>"
   ]
  },
  {
   "cell_type": "code",
   "execution_count": 5,
   "metadata": {},
   "outputs": [
    {
     "name": "stdout",
     "output_type": "stream",
     "text": [
      "不能除0！\n",
      "程序执行完毕！\n",
      "请输入一个数字！1\n",
      "程序执行完成！\n"
     ]
    }
   ],
   "source": [
    "# 例子1\n",
    "try:\n",
    "    a = 10\n",
    "    print(a/0)\n",
    "except: # 或者直接这样\n",
    "# except ZeroDivisionError:\n",
    "    print(\"不能除0！\")\n",
    "else:\n",
    "    print(\"只有正常执行才会执行else中的内容!\")\n",
    "finally:\n",
    "    print(\"程序执行完毕！\")\n",
    "\n",
    "# 例子2\n",
    "while True:\n",
    "    try:\n",
    "        num1 =  int(input(\"请输入一个数字！\"))\n",
    "        break\n",
    "    except:\n",
    "        print(\"需要输入一个数字，否则不能停止！\")\n",
    "    finally:\n",
    "        print(\"程序执行完成！\")"
   ]
  },
  {
   "cell_type": "markdown",
   "metadata": {
    "collapsed": true
   },
   "source": [
    "# <center>文件操作</center>"
   ]
  },
  {
   "cell_type": "code",
   "execution_count": 12,
   "metadata": {},
   "outputs": [
    {
     "name": "stdout",
     "output_type": "stream",
     "text": [
      "\n",
      "梦后楼台高锁，酒醒帘幕低垂。\n",
      "去年春恨却来时。落花人独立，微雨燕双飞。\n",
      "记得小蘋初见，两重心字罗衣。\n",
      "琵琶弦上说相思。当时明月在，曾照彩云归。\n",
      "\n",
      "梦后楼台高锁，酒醒帘幕低垂。\n",
      "去年春恨却来时。落花人独立，微雨燕双飞。\n",
      "记得小蘋初见，两重心字罗衣。\n",
      "琵琶弦上说相思。当时明月在，曾照彩云归。\n",
      "\n"
     ]
    }
   ],
   "source": [
    "# 读取文件\n",
    "with open(\"C:\\\\Users\\\\Work-PC\\\\Desktop\\\\python_text.text\",\"r\",encoding='utf-8') as text1:\n",
    "    rst1 = text1.read()\n",
    "    print(rst1)\n",
    "    text1.close()# 记得关掉文档"
   ]
  },
  {
   "cell_type": "code",
   "execution_count": 11,
   "metadata": {
    "collapsed": true
   },
   "outputs": [],
   "source": [
    "# 写入文件- w会覆盖原有文件 +是读取和写入 a是添加不会覆盖原有\n",
    "text_text = '''\n",
    "梦后楼台高锁，酒醒帘幕低垂。\n",
    "去年春恨却来时。落花人独立，微雨燕双飞。\n",
    "记得小蘋初见，两重心字罗衣。\n",
    "琵琶弦上说相思。当时明月在，曾照彩云归。\n",
    "'''\n",
    "with open(\"C:\\\\Users\\\\Work-PC\\\\Desktop\\\\python_text.text\",\"+a\",encoding='utf-8') as text1:\n",
    "    text1.write(text_text)\n",
    "    text1.close()\n",
    "    "
   ]
  },
  {
   "cell_type": "code",
   "execution_count": 15,
   "metadata": {
    "collapsed": true
   },
   "outputs": [],
   "source": [
    "# 创建新文件并写入- x创建\n",
    "text_text = '''\n",
    "梦后楼台高锁，酒醒帘幕低垂。\n",
    "去年春恨却来时。落花人独立，微雨燕双飞。\n",
    "记得小蘋初见，两重心字罗衣。\n",
    "琵琶弦上说相思。当时明月在，曾照彩云归。\n",
    "'''\n",
    "with open(\"C:\\\\Users\\\\Work-PC\\\\Desktop\\\\python_text_1.text\",\"+x\",encoding='utf-8') as text1:\n",
    "    text1.write(text_text)\n",
    "    text1.close()"
   ]
  },
  {
   "cell_type": "markdown",
   "metadata": {},
   "source": [
    "# <center>导入</center>"
   ]
  },
  {
   "cell_type": "code",
   "execution_count": 17,
   "metadata": {},
   "outputs": [
    {
     "data": {
      "text/plain": [
       "'C:\\\\Users\\\\Work-PC\\\\Documents\\\\Python'"
      ]
     },
     "execution_count": 17,
     "metadata": {},
     "output_type": "execute_result"
    }
   ],
   "source": [
    "# 使用import导入\n",
    "import os\n",
    "os.getcwd()"
   ]
  },
  {
   "cell_type": "markdown",
   "metadata": {},
   "source": [
    "- 标准库"
   ]
  },
  {
   "cell_type": "markdown",
   "metadata": {
    "collapsed": true
   },
   "source": [
    "# <center>shell</center>"
   ]
  },
  {
   "cell_type": "markdown",
   "metadata": {},
   "source": [
    "- shell:壳：和计算机进行交互的接口\n",
    "- kernel：内核\n",
    "\n",
    "- 通常shell分为两类：命令行和图形界面"
   ]
  },
  {
   "cell_type": "markdown",
   "metadata": {},
   "source": [
    "linux echo就是输出\n",
    "```\n",
    "$ echo hello\n",
    "hello\n",
    "```\n",
    "命令包括：ls、ll、cd、cd..、pwd\n"
   ]
  },
  {
   "cell_type": "markdown",
   "metadata": {},
   "source": [
    "- cd~ 可以回到系统默认位置\n",
    "- ll 后面可以跟路径，这样就能指定路径查看文件"
   ]
  },
  {
   "cell_type": "markdown",
   "metadata": {},
   "source": [
    "`mv bashtest/*.abc bashtest1`批量移动文件\n"
   ]
  },
  {
   "cell_type": "markdown",
   "metadata": {},
   "source": [
    "- curl\n",
    "    - curl 'www.baidu.com'\n",
    "    - curl -L 'www.baidu.com' 有的网站有重定向 需要使用到-L参数\n",
    "    - curl -L -o d:/bashtest/baidu.html 'www.baidu.com' 将网页储存到本地"
   ]
  },
  {
   "cell_type": "markdown",
   "metadata": {},
   "source": [
    "- nano一个笔记本"
   ]
  },
  {
   "cell_type": "markdown",
   "metadata": {},
   "source": [
    "- `grep test test.abc` grep可以这样使用，前面是要搜索的词 后面是文件名"
   ]
  },
  {
   "cell_type": "markdown",
   "metadata": {},
   "source": [
    "- `curl 'www.qq.com' -L |grep qq |wc -l` 计数 qq网页有多少个qq字符"
   ]
  },
  {
   "cell_type": "markdown",
   "metadata": {},
   "source": [
    "- 查看说明书 man x\n",
    "    - 比如 man yum"
   ]
  },
  {
   "cell_type": "markdown",
   "metadata": {},
   "source": [
    "# <center>git命令</center>"
   ]
  },
  {
   "cell_type": "markdown",
   "metadata": {},
   "source": [
    "- 比较文件内容\n",
    "    - `diff abc1.test abc2.test`\n",
    "- 建立一个本地的仓库做一个版本控制\n",
    "    - git init # git 初始化，会生成一个.git文件夹 相当于本地仓库\n",
    "    - git add abc1.test # 跟踪文件\n",
    "    - git status # 显示文件状态\n",
    "    - git commit # 提交文件\n",
    "    \n",
    "    - git log # 查看git的log\n",
    "    - git diff {两次修改log的id} # 看看两次提交有什么不同\n",
    "    - gif diff # 直接对比工作区和缓存区的内容\n",
    "    - git diff --staged # 对比缓存区和仓库的区\n",
    "    - git reset --hard # 直接将本地文件恢复到仓库的最后一次提交内容，相当于快速恢复。\n",
    "    - git commit -m \"xxxxxx\" # 快捷写说明"
   ]
  },
  {
   "cell_type": "markdown",
   "metadata": {},
   "source": [
    "- Braching # 分支 非线性更新\n",
    "    - git branch # 查看当前路线\n",
    "    - git branch test_version # 创建一个分支\n",
    "    - git checkout test_version # 切换到另一个分支\n",
    "    - git merge master test_version # 自动合并分支\n",
    "    \n",
    "- 合并可能会产生冲突\n",
    "    - 需要手动同步更改"
   ]
  },
  {
   "cell_type": "markdown",
   "metadata": {},
   "source": [
    "## git hub"
   ]
  },
  {
   "cell_type": "markdown",
   "metadata": {
    "collapsed": true
   },
   "source": [
    "- git hub push\n",
    "    - git remote # 建立远端链接，需要先git init初始化,并建立本地仓库\n",
    "        - git remote add origin https://github.com/lzhedoudou/Jupyter.git\n",
    "        - git push -u origin master"
   ]
  },
  {
   "cell_type": "markdown",
   "metadata": {
    "collapsed": true
   },
   "source": [
    "- git hub pull#\n",
    "    - git pull origin master # 从云端仓库down下来"
   ]
  },
  {
   "cell_type": "markdown",
   "metadata": {
    "collapsed": true
   },
   "source": [
    "- 可以将其他人的代码fork到本地\n",
    "    - 先fork，然后 git clone https://github.com/lzhedoudou/ItChat.git"
   ]
  },
  {
   "cell_type": "markdown",
   "metadata": {
    "collapsed": true
   },
   "source": [
    "# <center>数据可视化</center>"
   ]
  },
  {
   "cell_type": "markdown",
   "metadata": {
    "collapsed": true
   },
   "source": [
    "- matplotlib\n",
    "    - 例子位置：pychram"
   ]
  },
  {
   "cell_type": "markdown",
   "metadata": {},
   "source": [
    "# <center>类和对象</center>"
   ]
  },
  {
   "cell_type": "markdown",
   "metadata": {},
   "source": [
    "- class 类\n",
    "    - object 对象 万物皆是对象"
   ]
  },
  {
   "cell_type": "code",
   "execution_count": 11,
   "metadata": {},
   "outputs": [
    {
     "name": "stdout",
     "output_type": "stream",
     "text": [
      "doudou 18 girl\n"
     ]
    }
   ],
   "source": [
    "# 创建一个类\n",
    "class User():\n",
    "    pass\n",
    "rst1 = User()\n",
    "rst1.name = 'doudou'\n",
    "rst1.age = 18\n",
    "rst1.sex = 'girl'\n",
    "print(rst1.name,rst1.age,rst1.sex)"
   ]
  },
  {
   "cell_type": "code",
   "execution_count": 13,
   "metadata": {},
   "outputs": [
    {
     "name": "stdout",
     "output_type": "stream",
     "text": [
      "我的姓是li名字是dou今年29岁性别nan\n",
      "\n",
      "        这是一个拆分姓名根据生日计算年龄的类\n",
      "    \n"
     ]
    }
   ],
   "source": [
    "import datetime as dt\n",
    "import time as time\n",
    "# 类的实例化\n",
    "class Person():\n",
    "    '''\n",
    "        这是一个拆分姓名根据生日计算年龄的类\n",
    "    '''\n",
    "    def __init__(self,name,brithday,sex): # 这个是在类中必须存在的，注意要写\n",
    "        self.name = name\n",
    "        self.brithday = brithday\n",
    "        self.sex = sex\n",
    "        # 将全名拆开 分为姓和名\n",
    "        name_chaifen = name.split(\" \")\n",
    "        self.xing = name_chaifen[0]\n",
    "        self.ming = name_chaifen[-1] # 为什么是-1 因为要保证是最后一位，有可能名字中间有空格\n",
    "        return None\n",
    "    # 根据输入的生日计算出年龄\n",
    "    def jisuan_age(self):\n",
    "        today = dt.date.today() # 获取当前日期\n",
    "        year = int(self.brithday[0:4]) # 获取输入的birthday的下标区间字符，注意需要转换成int类型\n",
    "        month = int(self.brithday[4:6]) # 获取输入的birthday的下标区间字符，注意需要转换成int类型\n",
    "        day = int(self.brithday[6:8]) # 获取输入的birthday的下标区间字符，注意需要转换成int类型\n",
    "        brithday_date = dt.date(year,month,day) # 转换成date类型 便于下一步计算\n",
    "        age_day = (today -brithday_date).days /365 # 计算差值，注意.days是datetime自带的方法\n",
    "        return int(age_day) # 用int函数将浮点数转换为整数\n",
    "rst1 = Person('li zhe dou','19901127','nan')\n",
    "print(\"我的姓是{}名字是{}今年{}岁性别{}\".format(rst1.xing,rst1.ming,rst1.jisuan_age(),rst1.sex))\n",
    "print(Person.__doc__)\n"
   ]
  },
  {
   "cell_type": "markdown",
   "metadata": {},
   "source": [
    "# <center>numpy,pandas</center>"
   ]
  },
  {
   "cell_type": "markdown",
   "metadata": {},
   "source": [
    "- numpy和pandas进行数据处理，数据处理完成后用matplotlib进行数据可视化\n",
    "    - pandas基于numpy 进行了改进"
   ]
  },
  {
   "cell_type": "markdown",
   "metadata": {},
   "source": [
    "## numpy"
   ]
  },
  {
   "cell_type": "code",
   "execution_count": 45,
   "metadata": {},
   "outputs": [
    {
     "name": "stdout",
     "output_type": "stream",
     "text": [
      "<class 'list'>\n",
      "[1 2 3 4 5 6 7 8 9] <class 'numpy.ndarray'>\n",
      "[[ 1  2  3  4  5  6  7  8  9]\n",
      " [10  9  8  7  6  5  4  3  2]]\n",
      "(9,)\n",
      "(2, 9)\n",
      "(3, 9)\n",
      "(3, 9)\n",
      "--------------------\n",
      "27\n",
      "int32 int32 float64\n",
      "[[ 1.  2.  3.  4.  5.  6.  7.  8.  9.]\n",
      " [21.  9.  8.  7.  6.  5.  4.  3.  2.]\n",
      " [11. 12. 13. 14. 15. 16. 17. 18. 19.]]\n"
     ]
    }
   ],
   "source": [
    "import numpy as np\n",
    "list1 = [i for i in range(1,10)]\n",
    "list2 = [i for i in range(10,1,-1)]\n",
    "list3 = [i for i in range(11,20)]\n",
    "# print(list1,type(list1))\n",
    "print(type(list2))\n",
    "V = np.array(list1) # 用array就可以将一个列表变成array格式\n",
    "M = np.array([list1,list2])\n",
    "print(V,type(V)) # 像列表，但是没有逗号\n",
    "print(M)\n",
    "print(V.shape)\n",
    "print((M.shape)) # 2就是有两行 9是代表有九列\n",
    "H = np.array([list1,list2,list3],dtype = float) # 强制变为float型\n",
    "print(H.shape) # 结果进一步证明了ndarray代表了行和列\n",
    "print(np.shape(H)) # 跟上面是一样的\n",
    "print(\"-\" * 20)\n",
    "print(np.size(H)) # 共有27个元素\n",
    "\n",
    "print(V.dtype,M.dtype,H.dtype) # 内部的数据类型查看\n",
    "H[1,0] = 21# 修改ndarray中内容\n",
    "print(H)"
   ]
  },
  {
   "cell_type": "markdown",
   "metadata": {},
   "source": [
    "- array跟list不同，只能装同一类型的数据。"
   ]
  },
  {
   "cell_type": "code",
   "execution_count": 90,
   "metadata": {},
   "outputs": [
    {
     "name": "stdout",
     "output_type": "stream",
     "text": [
      "[[ 1  2  3  4]\n",
      " [ 5  6  7  8]\n",
      " [ 9 10 11 12]]\n",
      "[[2 3]\n",
      " [6 7]]\n",
      "7\n",
      "[[   2    3]\n",
      " [   6 9999]]\n"
     ]
    }
   ],
   "source": [
    "# array切分操作 - 相当于有一个矩阵，切一个区域出来\n",
    "# 如何将2，3，6，7切出来\n",
    "import numpy as np\n",
    "a= np.array([[1,2,3,4],\n",
    "            [5,6,7,8],\n",
    "            [9,10,11,12]])\n",
    "print(a)\n",
    "b = a[0:2,1:3] # 根据输出结果0：2表示切分第1行到第2行（注意从0开始包左不包右） 1：3表示列元素 从第2个元素到第3个元素\n",
    "print(b)\n",
    "\n",
    "# 精准定位到7\n",
    "print(b[1,1])\n",
    "# 将7的值变为9999\n",
    "b[1,1] = 9999\n",
    "print(b)"
   ]
  },
  {
   "cell_type": "code",
   "execution_count": 65,
   "metadata": {},
   "outputs": [
    {
     "name": "stdout",
     "output_type": "stream",
     "text": [
      "[[0. 0. 0. 0. 0.]\n",
      " [0. 0. 0. 0. 0.]]\n",
      "[[1. 1. 1. 1. 1. 1.]\n",
      " [1. 1. 1. 1. 1. 1.]\n",
      " [1. 1. 1. 1. 1. 1.]]\n",
      "[['999' '999' '999' '999' '999' '999' '999']\n",
      " ['999' '999' '999' '999' '999' '999' '999']\n",
      " ['999' '999' '999' '999' '999' '999' '999']\n",
      " ['999' '999' '999' '999' '999' '999' '999']\n",
      " ['999' '999' '999' '999' '999' '999' '999']\n",
      " ['999' '999' '999' '999' '999' '999' '999']]\n",
      "[[1. 0. 0. 0. 0. 0. 0. 0. 0. 0.]\n",
      " [0. 1. 0. 0. 0. 0. 0. 0. 0. 0.]\n",
      " [0. 0. 1. 0. 0. 0. 0. 0. 0. 0.]\n",
      " [0. 0. 0. 1. 0. 0. 0. 0. 0. 0.]\n",
      " [0. 0. 0. 0. 1. 0. 0. 0. 0. 0.]\n",
      " [0. 0. 0. 0. 0. 1. 0. 0. 0. 0.]\n",
      " [0. 0. 0. 0. 0. 0. 1. 0. 0. 0.]\n",
      " [0. 0. 0. 0. 0. 0. 0. 1. 0. 0.]\n",
      " [0. 0. 0. 0. 0. 0. 0. 0. 1. 0.]\n",
      " [0. 0. 0. 0. 0. 0. 0. 0. 0. 1.]]\n",
      "[[0.10543411 0.18778322 0.86856291]\n",
      " [0.43381938 0.92208446 0.29783261]]\n"
     ]
    }
   ],
   "source": [
    "import numpy as np\n",
    "# 生成np数据 注意双括号\n",
    "c = np.zeros((2,5)) # 都是0，两行5列\n",
    "print(c)\n",
    "d = np.ones((3,6)) # 都是1，三行六列\n",
    "print(d)\n",
    "\n",
    "e =np.full((6,7),'999') # 填充999，6行七列\n",
    "print(e)\n",
    "\n",
    "f = np.eye(10) # 跟matlab创建矩阵一样，只有对角线是1，10行10列\n",
    "print(f)\n",
    "\n",
    "g = np.random.random((2,3)) # 两行三列，内容随机生成\n",
    "print(g)"
   ]
  },
  {
   "cell_type": "markdown",
   "metadata": {},
   "source": [
    "- 有个问题要注意下，如果是赋值的话，当被赋值的变量的元素发生改变，那原array也会发生变化，如下所示："
   ]
  },
  {
   "cell_type": "code",
   "execution_count": 11,
   "metadata": {},
   "outputs": [
    {
     "name": "stdout",
     "output_type": "stream",
     "text": [
      "[[1 2]\n",
      " [3 4]\n",
      " [5 6]\n",
      " [7 8]]\n",
      "--------------------\n",
      "[[2]\n",
      " [4]]\n",
      "4\n",
      "[[  1   2]\n",
      " [  3 888]\n",
      " [  5   6]\n",
      " [  7   8]]\n"
     ]
    }
   ],
   "source": [
    "import numpy as np\n",
    "h = np.array([[1,2],[3,4],[5,6],[7,8]])\n",
    "i = h[0:2,1:2] # 将2和4切出来，0:2表示切第1行，1:2表示切第二列\n",
    "print(h)\n",
    "print(\"-\" * 20)\n",
    "print(i)\n",
    "print(i[1,0]) # 将4打印出来 \n",
    "i [1,0] = 888 #将4修改成888，再打印h和i\n",
    "print(h) # 结果可以发现h确实被改过来了"
   ]
  },
  {
   "cell_type": "code",
   "execution_count": 12,
   "metadata": {},
   "outputs": [
    {
     "name": "stdout",
     "output_type": "stream",
     "text": [
      "[[1 2]\n",
      " [3 4]\n",
      " [5 6]\n",
      " [7 8]]\n",
      "--------------------\n",
      "[[2]\n",
      " [4]]\n",
      "--------------------\n",
      "4\n",
      "[[1 2]\n",
      " [3 4]\n",
      " [5 6]\n",
      " [7 8]]\n",
      "[[  2]\n",
      " [888]]\n"
     ]
    }
   ],
   "source": [
    "import numpy as np\n",
    "j = np.array([[1,2],[3,4],[5,6],[7,8]])\n",
    "k = np.array(j[0:2,1:2]) # 这是生成新的arrry\n",
    "print(j)\n",
    "print(\"-\" * 20)\n",
    "print(k)\n",
    "print(\"-\" * 20)\n",
    "print(k[1,0]) # 将4打印出来 \n",
    "k [1,0] = 888 #将4修改成888，再打印\n",
    "print(j) # 通过结果可以发现k变了，但是j没变，这就是和上面例子的区别。\n",
    "print(k) "
   ]
  },
  {
   "cell_type": "code",
   "execution_count": 30,
   "metadata": {},
   "outputs": [
    {
     "name": "stdout",
     "output_type": "stream",
     "text": [
      "[[1 2]\n",
      " [3 4]\n",
      " [5 6]\n",
      " [7 8]]\n",
      "[2 4 5]\n",
      "[888   4   5]\n",
      "[[1 2]\n",
      " [3 4]\n",
      " [5 6]\n",
      " [7 8]]\n"
     ]
    }
   ],
   "source": [
    "# 用另一种index方法构建array\n",
    "# 把 245抽出来\n",
    "import numpy as np\n",
    "l = np.array([[1,2],[3,4],[5,6],[7,8]])\n",
    "print(l)\n",
    "m = l[[0,1,2],[1,1,0]] # 相互对应，第一行第二列\n",
    "print(m)\n",
    "# 将2 修改成888\n",
    "m[0:1] = 888\n",
    "print(m)\n",
    "print(l)\n",
    "# 这种方法也不会改回来"
   ]
  },
  {
   "cell_type": "code",
   "execution_count": 1,
   "metadata": {},
   "outputs": [
    {
     "name": "stdout",
     "output_type": "stream",
     "text": [
      "[[ 1  2  3  4  5]\n",
      " [ 6  7  8  9 10]\n",
      " [11 12 13 14 15]\n",
      " [16 17 18 19 20]]\n",
      "[ 2  8 11 20]\n",
      "[[  1 102   3   4   5]\n",
      " [  6   7 108   9  10]\n",
      " [111  12  13  14  15]\n",
      " [ 16  17  18  19 120]]\n"
     ]
    }
   ],
   "source": [
    "import numpy as np\n",
    "n = np.array([[1,2,3,4,5],[6,7,8,9,10],[11,12,13,14,15],[16,17,18,19,20]])\n",
    "print(n)\n",
    "# 将2、8、11、20取出来\n",
    "o = n[[0,1,2,3],[1,2,0,4]] # 这种方式没有不包右的问题\n",
    "print(o)\n",
    "# 想把2、8、11、20都加上100\n",
    "# 或者用下面这种方法\n",
    "p = np.array([1,2,0,4])\n",
    "n[np.arange(4),p] += 100 # 先把目标锁定，arange读取行数，p读取列数，然后都加上100\n",
    "print(n)"
   ]
  },
  {
   "cell_type": "code",
   "execution_count": 9,
   "metadata": {},
   "outputs": [
    {
     "name": "stdout",
     "output_type": "stream",
     "text": [
      "[[1 2 3]\n",
      " [4 5 6]\n",
      " [7 8 9]]\n",
      "[[False  True False]\n",
      " [ True False  True]\n",
      " [False  True False]]\n",
      "[2 4 6 8]\n"
     ]
    }
   ],
   "source": [
    "# 用布尔值贴标签\n",
    "import numpy as np\n",
    "q = np.array([[1,2,3],[4,5,6],[7,8,9]])\n",
    "print(q)\n",
    "bool_q_panduan = (q % 2 == 0) # 判断是否为偶数\n",
    "print(bool_q_panduan) # 这样只是返回是不是偶数\n",
    "# 可以将所有偶数打印出来\n",
    "print(q[q % 2 == 0]) # 这样就将偶数打印出来了\n",
    "\n",
    "\n"
   ]
  },
  {
   "cell_type": "markdown",
   "metadata": {},
   "source": [
    "## array基本运算"
   ]
  },
  {
   "cell_type": "code",
   "execution_count": 17,
   "metadata": {},
   "outputs": [
    {
     "name": "stdout",
     "output_type": "stream",
     "text": [
      "[[ 6.  8.]\n",
      " [10. 12.]]\n"
     ]
    }
   ],
   "source": [
    "# array的相加运算\n",
    "r = np.array([[1,2],[3,4]],dtype = np.float64)\n",
    "s = np.array([[5,6],[7,8]],dtype = np.float64)\n",
    "print(r + s)"
   ]
  },
  {
   "cell_type": "code",
   "execution_count": 25,
   "metadata": {},
   "outputs": [
    {
     "name": "stdout",
     "output_type": "stream",
     "text": [
      "[[12 14 16 18]\n",
      " [20 22 24 26]]\n",
      "[[10 10 10 10]\n",
      " [10 10 10 10]]\n",
      "[[ 11  24  39  56]\n",
      " [ 75  96 119 144]]\n",
      "[[11.          6.          4.33333333  3.5       ]\n",
      " [ 3.          2.66666667  2.42857143  2.25      ]]\n"
     ]
    }
   ],
   "source": [
    "# 用函数些一个array的四则运算\n",
    "class jisuan_array():\n",
    "    \n",
    "    def array_jia(self,x,y):\n",
    "        self.x = x\n",
    "        self.y =y\n",
    "        return x + y\n",
    "    def array_jian(self,x,y):\n",
    "        self.x = x\n",
    "        self.y =y\n",
    "        return x - y\n",
    "    def array_cheng(self,x,y):\n",
    "        self.x = x\n",
    "        self.y =y\n",
    "        return x * y\n",
    "    def array_chu(self,x,y):\n",
    "        self.x = x\n",
    "        self.y =y\n",
    "        return x / y\n",
    "    \n",
    "rst1 = jisuan_array()\n",
    "rst_array_jia = rst1.array_jia(np.array([[1,2,3,4],[5,6,7,8]]),np.array([[11,12,13,14],[15,16,17,18]]))\n",
    "rst_array_jian = rst1.array_jian(np.array([[11,12,13,14],[15,16,17,18]]),np.array([[1,2,3,4],[5,6,7,8]]))\n",
    "rst_array_cheng = rst1.array_cheng(np.array([[11,12,13,14],[15,16,17,18]]),np.array([[1,2,3,4],[5,6,7,8]]))\n",
    "rst_array_chu = rst1.array_chu(np.array([[11,12,13,14],[15,16,17,18]]),np.array([[1,2,3,4],[5,6,7,8]]))\n",
    "print(rst_array_jia)\n",
    "print(rst_array_jian)\n",
    "print(rst_array_cheng)\n",
    "print(rst_array_chu)\n"
   ]
  },
  {
   "cell_type": "markdown",
   "metadata": {},
   "source": [
    "- 矩阵相乘\n",
    "``` \n",
    " 矩阵a = 1 2\n",
    "        3 4\n",
    " 矩阵b = 5 6\n",
    "        7 8\n",
    "       \n",
    " 当矩阵a和矩阵b相乘的时候计算规则\n",
    " 1*5+2*7 1*6+2*8\n",
    " 3*5+4*7 3*6+4*8\n",
    "```\n"
   ]
  },
  {
   "cell_type": "code",
   "execution_count": 21,
   "metadata": {},
   "outputs": [
    {
     "name": "stdout",
     "output_type": "stream",
     "text": [
      "[[1 2]\n",
      " [4 5]]\n",
      "[[ 7  8]\n",
      " [10 11]]\n",
      "[[27 30]\n",
      " [78 87]]\n"
     ]
    }
   ],
   "source": [
    "# 矩阵相乘举例\n",
    "# 注意 矩阵 需要是个方形的\n",
    "import numpy as np\n",
    "a = np.array([[1,2],[4,5]])\n",
    "b = np.array([[7,8],[10,11]])\n",
    "print(a)\n",
    "print(b)\n",
    "print(a.dot(b))"
   ]
  },
  {
   "cell_type": "code",
   "execution_count": 23,
   "metadata": {},
   "outputs": [
    {
     "name": "stdout",
     "output_type": "stream",
     "text": [
      "[[27 30]\n",
      " [78 87]]\n"
     ]
    }
   ],
   "source": [
    "# 另外一种方法\n",
    "import numpy as np\n",
    "a1 = np.array([[1,2],[4,5]])\n",
    "b1 = np.array([[7,8],[10,11]])\n",
    "c1 = np.array([[21,33],[24,7]])\n",
    "rst1 = np.dot(a1,b1,c1)\n",
    "print(rst1)"
   ]
  },
  {
   "cell_type": "code",
   "execution_count": 28,
   "metadata": {},
   "outputs": [
    {
     "name": "stdout",
     "output_type": "stream",
     "text": [
      "[[1 2 3]\n",
      " [4 5 6]\n",
      " [7 8 9]]\n",
      "45\n",
      "[12 15 18]\n",
      "[ 6 15 24]\n"
     ]
    }
   ],
   "source": [
    "# 行求和列求和或计数\n",
    "import numpy as np\n",
    "a = np.array([[1,2,3],[4,5,6],[7,8,9]]) \n",
    "print(a)\n",
    "print(np.sum(a)) # 全部相加\n",
    "print(np.sum(a,axis = 0)) # axis = 0每一列分别求和\n",
    "print(np.sum(a,axis = 1)) # axis = 1每一行分别求和"
   ]
  },
  {
   "cell_type": "code",
   "execution_count": 3,
   "metadata": {},
   "outputs": [
    {
     "name": "stdout",
     "output_type": "stream",
     "text": [
      "[[1 2 3]\n",
      " [4 5 6]\n",
      " [7 8 9]]\n",
      "[[1 4 7]\n",
      " [2 5 8]\n",
      " [3 6 9]]\n"
     ]
    }
   ],
   "source": [
    "# 变形\n",
    "import numpy as np\n",
    "c = np.array([[1,2,3],[4,5,6],[7,8,9]])\n",
    "print(c)\n",
    "print(c.T) # 矩阵翻转 横的变成了竖的"
   ]
  },
  {
   "cell_type": "code",
   "execution_count": 6,
   "metadata": {},
   "outputs": [
    {
     "name": "stdout",
     "output_type": "stream",
     "text": [
      "[[1 2 3]\n",
      " [4 5 6]\n",
      " [7 8 9]]\n",
      "[[ 1  3  5]\n",
      " [ 4  6  8]\n",
      " [ 7  9 11]]\n"
     ]
    }
   ],
   "source": [
    "# broadcasting\n",
    "# 正常情况下，两个矩阵进行相加或者相乘或者其他运算，两个矩阵的形状应该是一样的。\n",
    "# 但是利用broadcasting，两个形状不一样的矩阵也可以进行计算\n",
    "import numpy as np\n",
    "c = np.array([[1,2,3],[4,5,6],[7,8,9]])\n",
    "d = np.array([0,1,2])\n",
    "print(c)\n",
    "print(c+d)\n",
    "# 其实如果c和d相加，d会被默认脑补成这个样子 d = np.array([[0,1,2],[0,1,2],[0,1,2]])"
   ]
  },
  {
   "cell_type": "code",
   "execution_count": 9,
   "metadata": {},
   "outputs": [
    {
     "name": "stdout",
     "output_type": "stream",
     "text": [
      "[[  110   223 34123]\n",
      " [ 4123    51   645]\n",
      " [   72    81    98]]\n",
      "[[  110   223 34123]\n",
      " [ 4123    51   645]\n",
      " [   72    81    98]]\n"
     ]
    }
   ],
   "source": [
    "# 根据已有数组的形状生成一个新的数组，内容随机\n",
    "import numpy as np\n",
    "e = np.array([[110,223,34123],[4123,51,645],[72,81,98]])\n",
    "print(e)\n",
    "d = np.empty_like(e)\n",
    "print(d) # 可以看到d和e的结构是类似的，但是内容不同，虽然是里面内容是有序的，其实是随机生成的"
   ]
  },
  {
   "cell_type": "markdown",
   "metadata": {},
   "source": [
    "## pandas\n"
   ]
  },
  {
   "cell_type": "markdown",
   "metadata": {},
   "source": [
    "- 这里有一个数据网站，里面有各种各样的模拟或者真实数据\n",
    "    - www.kaggle.com"
   ]
  },
  {
   "cell_type": "code",
   "execution_count": 9,
   "metadata": {
    "scrolled": true
   },
   "outputs": [
    {
     "name": "stdout",
     "output_type": "stream",
     "text": [
      "0    SkinThickness\n",
      "1               35\n",
      "2               29\n",
      "3                0\n",
      "4               23\n",
      "Name: D, dtype: object\n",
      "<class 'pandas.core.series.Series'>\n",
      "0    Insulin\n",
      "1          0\n",
      "2          0\n",
      "3          0\n",
      "4         94\n",
      "Name: E, dtype: object\n",
      "--------------------\n",
      "0      Pregnancies\n",
      "1                6\n",
      "2                1\n",
      "3                8\n",
      "4                1\n",
      "          ...     \n",
      "764             10\n",
      "765              2\n",
      "766              5\n",
      "767              1\n",
      "768              1\n",
      "Name: A, Length: 769, dtype: object\n",
      "0      Glucose\n",
      "1          148\n",
      "2           85\n",
      "3          183\n",
      "4           89\n",
      "        ...   \n",
      "764        101\n",
      "765        122\n",
      "766        121\n",
      "767        126\n",
      "768         93\n",
      "Name: B, Length: 769, dtype: object\n",
      "0      PregnanciesGlucose\n",
      "1                    6148\n",
      "2                     185\n",
      "3                    8183\n",
      "4                     189\n",
      "              ...        \n",
      "764                 10101\n",
      "765                  2122\n",
      "766                  5121\n",
      "767                  1126\n",
      "768                   193\n",
      "Length: 769, dtype: object\n",
      "<class 'pandas.core.series.Series'>\n"
     ]
    }
   ],
   "source": [
    "import pandas as pd\n",
    "\n",
    "# series就相当于列 dataframe就是整个的数据\n",
    "\n",
    "dingyi_lieming = ['A','B','C','D','E','F','G','H','I'] # 自定定义列名\n",
    "\n",
    "# header=None 如果首行不是想要的header可以通过这个命令自动加一行，而且他的作用还可以通过坐标轴确定元素位置\n",
    "# names 自己定义列的名称\n",
    "df = pd.read_csv(\"C:\\\\Users\\\\Dou\\\\Desktop\\\\Python\\\\Jupyter\\\\test_file\\\\kaggle\\\\diabetes.csv\",\n",
    "                 header=None,names=dingyi_lieming) \n",
    "                              \n",
    "# print(df.head()) # 数据太多打不出来，可以使用head只显示前面的几行（应该有5行）\n",
    "pd.set_option('display.max_rows',100) # 一些特殊设置，比如是否显示全部数据或者其他的，这里是设置显示行数\n",
    "pd.set_option('display.max_columns',10) # 这里是设置显示列数\n",
    "# print(df) # 显示前面几行\n",
    "# print(df['D']) # 选中df的某一列\n",
    "# print(df.D) # 这样和上面结果一样，属于简化命令，但是有问题，如果是数字开头的列是不行的，如果是中文的应该也是不行的，而且涉及到关键字也有问题，所以还是应该用上面的\n",
    "print(df['D'].head())\n",
    "print(type(df['D'].head())) # 类型是Series\n",
    "print(df['E'].head())\n",
    "\n",
    "print(\"-\" * 20)\n",
    "print(df.A)\n",
    "print(df.B)\n",
    "# series可以相加，试一下\n",
    "print(df.A + df.B) # 根据结果可以看到，实际上是字符串的合并\\\n",
    "print(type(df.A + df.B)) # 类型还是series"
   ]
  },
  {
   "cell_type": "code",
   "execution_count": 14,
   "metadata": {},
   "outputs": [
    {
     "name": "stdout",
     "output_type": "stream",
     "text": [
      "0      Pregnancies,Glucose\n",
      "1                    6,148\n",
      "2                     1,85\n",
      "3                    8,183\n",
      "4                     1,89\n",
      "              ...         \n",
      "764                 10,101\n",
      "765                  2,122\n",
      "766                  5,121\n",
      "767                  1,126\n",
      "768                   1,93\n",
      "Length: 769, dtype: object\n",
      "               A        B              C              D        E     F  \\\n",
      "0    Pregnancies  Glucose  BloodPressure  SkinThickness  Insulin   BMI   \n",
      "1              6      148             72             35        0  33.6   \n",
      "2              1       85             66             29        0  26.6   \n",
      "3              8      183             64              0        0  23.3   \n",
      "4              1       89             66             23       94  28.1   \n",
      "..           ...      ...            ...            ...      ...   ...   \n",
      "764           10      101             76             48      180  32.9   \n",
      "765            2      122             70             27        0  36.8   \n",
      "766            5      121             72             23      112  26.2   \n",
      "767            1      126             60              0        0  30.1   \n",
      "768            1       93             70             31        0  30.4   \n",
      "\n",
      "                            G    H        I      new_series_name  \n",
      "0    DiabetesPedigreeFunction  Age  Outcome  Pregnancies,Glucose  \n",
      "1                       0.627   50        1                6,148  \n",
      "2                       0.351   31        0                 1,85  \n",
      "3                       0.672   32        1                8,183  \n",
      "4                       0.167   21        0                 1,89  \n",
      "..                        ...  ...      ...                  ...  \n",
      "764                     0.171   63        0               10,101  \n",
      "765                      0.34   27        0                2,122  \n",
      "766                     0.245   30        0                5,121  \n",
      "767                     0.349   47        1                1,126  \n",
      "768                     0.315   23        0                 1,93  \n",
      "\n",
      "[769 rows x 10 columns]\n"
     ]
    }
   ],
   "source": [
    "# 生成新的series并加入到dataframe里\n",
    "new_series = df.A + ',' + df.B\n",
    "print(new_series)\n",
    "df['new_series_name'] = new_series # 这里就执行了加入的操作，加入时的名字是new_series_name\n",
    "print(df) "
   ]
  },
  {
   "cell_type": "markdown",
   "metadata": {},
   "source": [
    "- 为什么调用方法的时候有的时候有括号，有的时候没有括号？\n",
    "    - 没有括号是特性\n",
    "    - 右括号的实际是方法"
   ]
  },
  {
   "cell_type": "code",
   "execution_count": 3,
   "metadata": {
    "scrolled": true
   },
   "outputs": [
    {
     "name": "stdout",
     "output_type": "stream",
     "text": [
      "     Pregnancies  Glucose  BloodPressure  SkinThickness  Insulin   BMI  \\\n",
      "0              6      148             72             35        0  33.6   \n",
      "1              1       85             66             29        0  26.6   \n",
      "2              8      183             64              0        0  23.3   \n",
      "3              1       89             66             23       94  28.1   \n",
      "4              0      137             40             35      168  43.1   \n",
      "..           ...      ...            ...            ...      ...   ...   \n",
      "763           10      101             76             48      180  32.9   \n",
      "764            2      122             70             27        0  36.8   \n",
      "765            5      121             72             23      112  26.2   \n",
      "766            1      126             60              0        0  30.1   \n",
      "767            1       93             70             31        0  30.4   \n",
      "\n",
      "     DiabetesPedigreeFunction  Age  Outcome  \n",
      "0                       0.627   50        1  \n",
      "1                       0.351   31        0  \n",
      "2                       0.672   32        1  \n",
      "3                       0.167   21        0  \n",
      "4                       2.288   33        1  \n",
      "..                        ...  ...      ...  \n",
      "763                     0.171   63        0  \n",
      "764                     0.340   27        0  \n",
      "765                     0.245   30        0  \n",
      "766                     0.349   47        1  \n",
      "767                     0.315   23        0  \n",
      "\n",
      "[768 rows x 9 columns]\n"
     ]
    }
   ],
   "source": [
    "import pandas as pd\n",
    "pd.set_option(\"display.max_rows\",100)\n",
    "pd.set_option(\"display.max_columns\",100)\n",
    "user_title_name = ['A','B','C','D','E','F','G','H','I']\n",
    "df = pd.read_csv(\"C:\\\\Users\\\\Dou\\\\Desktop\\\\Python\\\\Jupyter\\\\test_file\\\\kaggle\\\\diabetes.csv\")\n",
    "#                  index_col=False,\n",
    "#                  names = user_title_name,\n",
    "#                  header=None)\n",
    "print(df)"
   ]
  },
  {
   "cell_type": "code",
   "execution_count": 4,
   "metadata": {},
   "outputs": [
    {
     "name": "stdout",
     "output_type": "stream",
     "text": [
      "       Pregnancies     Glucose  BloodPressure  SkinThickness     Insulin  \\\n",
      "count   768.000000  768.000000     768.000000     768.000000  768.000000   \n",
      "mean      3.845052  120.894531      69.105469      20.536458   79.799479   \n",
      "std       3.369578   31.972618      19.355807      15.952218  115.244002   \n",
      "min       0.000000    0.000000       0.000000       0.000000    0.000000   \n",
      "25%       1.000000   99.000000      62.000000       0.000000    0.000000   \n",
      "50%       3.000000  117.000000      72.000000      23.000000   30.500000   \n",
      "75%       6.000000  140.250000      80.000000      32.000000  127.250000   \n",
      "max      17.000000  199.000000     122.000000      99.000000  846.000000   \n",
      "\n",
      "              BMI  DiabetesPedigreeFunction         Age     Outcome  \n",
      "count  768.000000                768.000000  768.000000  768.000000  \n",
      "mean    31.992578                  0.471876   33.240885    0.348958  \n",
      "std      7.884160                  0.331329   11.760232    0.476951  \n",
      "min      0.000000                  0.078000   21.000000    0.000000  \n",
      "25%     27.300000                  0.243750   24.000000    0.000000  \n",
      "50%     32.000000                  0.372500   29.000000    0.000000  \n",
      "75%     36.600000                  0.626250   41.000000    1.000000  \n",
      "max     67.100000                  2.420000   81.000000    1.000000  \n"
     ]
    }
   ],
   "source": [
    "# describe可以显示数据的个数和占比，具体啥的暂时不太清楚，要找个熟悉的数据看一下。\n",
    "print(df.describe())"
   ]
  },
  {
   "cell_type": "markdown",
   "metadata": {},
   "source": [
    "## 小项目实例"
   ]
  },
  {
   "cell_type": "markdown",
   "metadata": {},
   "source": [
    "### 随机游走"
   ]
  },
  {
   "cell_type": "code",
   "execution_count": 6,
   "metadata": {},
   "outputs": [
    {
     "name": "stdout",
     "output_type": "stream",
     "text": [
      "第1次 (2, -2) 走了2.83继续游荡\n",
      "第2次 (-1, -1) 走了1.41继续游荡\n",
      "第3次 (0, 2) 走了2.0继续游荡\n",
      "第4次 (6, 2) 走了6.32继续游荡\n",
      "第5次 (1, 1) 走了1.41继续游荡\n",
      "第6次 (-1, 3) 走了3.16继续游荡\n",
      "第7次 (-1, 3) 走了3.16继续游荡\n",
      "第8次 (1, -3) 走了3.16继续游荡\n",
      "第9次 (5, 1) 走了5.1继续游荡\n",
      "第10次 (-1, 1) 走了1.41继续游荡\n",
      "第11次 (-3, -5) 走了5.83继续游荡\n",
      "第12次 (2, 2) 走了2.83继续游荡\n",
      "第13次 (-2, -2) 走了2.83继续游荡\n",
      "第14次 (0, 4) 走了4.0继续游荡\n",
      "第15次 (0, -4) 走了4.0继续游荡\n",
      "第16次 (-3, 3) 走了4.24继续游荡\n",
      "第17次 (1, 1) 走了1.41继续游荡\n",
      "第18次 (2, 0) 走了2.0继续游荡\n",
      "第19次 (0, -2) 走了2.0继续游荡\n",
      "第20次 (-4, 2) 走了4.47继续游荡\n"
     ]
    }
   ],
   "source": [
    "import random as rd\n",
    "import math # 计算勾股定理需要使用到math.sqrt\n",
    "# 思路：先构建一个坐标轴\n",
    "# 先构建从坐标移动方法\n",
    "def random_walk(n):\n",
    "    x = 0\n",
    "    y = 0\n",
    "    for i in range(n):\n",
    "        step = rd.choice(['N','S','W','E']) # 随机选择\n",
    "        if step == 'N': # 北\n",
    "            y += 1 \n",
    "        elif step == 'S': # 南\n",
    "            y -= 1\n",
    "        elif step == 'W': # 西\n",
    "            x -= 1\n",
    "        else: # 东\n",
    "            x += 1 \n",
    "    return x,y\n",
    "# 开始模拟游走，模拟走10次\n",
    "for i in range(20): # 模拟循环20次\n",
    "    one_walk = random_walk(10) # 坐标轴是正10到负10的\n",
    "    # 这个的意思是计算距离远点有多远\n",
    "    how_far = round(math.sqrt(int(one_walk[0]) ** 2 + int(one_walk[1]) ** 2),2) # 勾股定理,a² + b² = c² 再使用round保留小数\n",
    "    if how_far > 40 :\n",
    "        print(\"第{}次\".format(i+1),one_walk,\"太远了已经走了{}\".format(how_far))\n",
    "    else:\n",
    "        print(\"第{}次\".format(i+1),one_walk,\"走了{}继续游荡\".format(how_far))\n",
    "            "
   ]
  },
  {
   "cell_type": "code",
   "execution_count": 7,
   "metadata": {},
   "outputs": [
    {
     "name": "stdout",
     "output_type": "stream",
     "text": [
      "(5, 1, '南') 第1次 当前已经走了5.1\n",
      "(3, 7, '西') 第2次 当前已经走了7.62\n",
      "(-3, 3, '西') 第3次 当前已经走了4.24\n",
      "(0, 2, '东') 第4次 当前已经走了2.0\n",
      "(2, 2, '东') 第5次 当前已经走了2.83\n",
      "(-1, 1, '南') 第6次 当前已经走了1.41\n",
      "(-2, -4, '东') 第7次 当前已经走了4.47\n",
      "(5, 1, '东') 第8次 当前已经走了5.1\n",
      "(-3, -3, '东') 第9次 当前已经走了4.24\n",
      "(11, 1, '东') 第10次 当前已经走了11.05\n"
     ]
    }
   ],
   "source": [
    "# 上面代码改进\n",
    "import random as rd\n",
    "import math # 计算勾股定理需要使用到math.sqrt\n",
    "\n",
    "# 修缮一下上面的代码 更加高效简洁\n",
    "def random_walk_v2(n):\n",
    "    x,y = 0,0 # 简写\n",
    "    for i in range(n):\n",
    "        (dx,dy,fx) = rd.choice([(0,1,'北'),(0,-1,'南'),(-1,0,'西'),(1,0,'东')])\n",
    "        x += dx\n",
    "        y += dy\n",
    "    return(x,y,fx)\n",
    "\n",
    "for i in range(10):\n",
    "    one_walk = random_walk_v2(20)\n",
    "    \n",
    "    print(one_walk,\"第{}次\".format(i+1),\n",
    "          # abs是绝对值方法 先平方，然后开方，然后用round保留两位小数\n",
    "          \"当前已经走了{}\".format(round(math.sqrt(abs(one_walk[0]) ** 2 + abs(one_walk[1]) ** 2),2)))"
   ]
  },
  {
   "cell_type": "code",
   "execution_count": 18,
   "metadata": {},
   "outputs": [
    {
     "name": "stdout",
     "output_type": "stream",
     "text": [
      "喝懵逼的比例是30.99%\n"
     ]
    }
   ],
   "source": [
    "import random as rd\n",
    "import math # 计算勾股定理需要使用到math.sqrt\n",
    "\n",
    "# 修缮一下上面的代码 更加高效简洁\n",
    "def random_walk_v2(n):\n",
    "    x,y = 0,0 # 简写\n",
    "    for i in range(n):\n",
    "        (dx,dy,fx) = rd.choice([(0,1,'北'),(0,-1,'南'),(-1,0,'西'),(1,0,'东')])\n",
    "        x += dx\n",
    "        y += dy\n",
    "    return(x,y,fx)\n",
    "\n",
    "count_jishu = 0\n",
    "count_zongshu = 200000\n",
    "\n",
    "for i in range(count_zongshu): # 模拟循环20次\n",
    "    one_walk = random_walk_v2(20) # 坐标轴是正10到负10的\n",
    "    # 这个的意思是计算距离远点有多远\n",
    "    how_far = round(math.sqrt(int(abs(one_walk[0])) ** 2 + int(abs(one_walk[1])) ** 2),2) # 勾股定理,a² + b² = c² 再使用round保留小数\n",
    "    if how_far > 5 :\n",
    "        count_jishu += 1\n",
    "#        print(\"第{}次\".format(i+1),one_walk,\"太远了已经走了{}\".format(how_far),\"这已经是第{}次了\".format(count_jishu))\n",
    "        \n",
    "    else:\n",
    "        pass\n",
    "# print(\"第{}次\".format(i+1),one_walk,\"走了{}继续游荡\".format(how_far))\n",
    "print(\"喝懵逼的比例是{:.2%}\".format(count_jishu/count_zongshu))\n",
    "# {:.2%} 用来表示百分比，百分号后两位\n",
    "# 根据输出结果，当前阈值，喝懵逼的比例大概是30%"
   ]
  },
  {
   "cell_type": "code",
   "execution_count": null,
   "metadata": {},
   "outputs": [],
   "source": [
    "# 赌场大小\n",
    "import random\n",
    "def suiji_shuzi():\n",
    "    '''\n",
    "    随机抽取数字的方法\n",
    "    '''\n",
    "    suiji_number = random.randint(1,100)\n",
    "#    if suiji_number >= 50 :\n",
    "#        print(\"{} ---- the number is 1-50\".format(suiji_number),end = ' ')\n",
    "#    else:\n",
    "#        print(\"{} ---- the number is 51-100\".format(suiji_number),end = ' ')\n",
    "    return suiji_number\n",
    "count_jishu = 0\n",
    "neibujishu = 0\n",
    "xunhuancishu = 10000\n",
    "while count_jishu < xunhuancishu:\n",
    "    count_jishu += 1\n",
    "    rst1 = suiji_shuzi()\n",
    "#    print(\"{}次\".format(count_jishu))\n",
    "    if rst1 > 50:\n",
    "        neibujishu += 1\n",
    "print(\"大于50%的占比是{:.2%}\".format(neibujishu/xunhuancishu))"
   ]
  },
  {
   "cell_type": "code",
   "execution_count": 19,
   "metadata": {
    "collapsed": true
   },
   "outputs": [
    {
     "name": "stdout",
     "output_type": "stream",
     "text": [
      "带着十万块来赌场浪，看看能坚持多久？\n",
      "我买的是小,开大。\n",
      "输了！输了1万当前剩9万 这是玩的第1把\n",
      "--------------------\n",
      "我买的是大,开小。\n",
      "输了！输了1万当前剩8万 这是玩的第2把\n",
      "--------------------\n",
      "我买的是大,开小。\n",
      "输了！输了1万当前剩7万 这是玩的第3把\n",
      "--------------------\n",
      "我买的是大,开小。\n",
      "输了！输了1万当前剩6万 这是玩的第4把\n",
      "--------------------\n",
      "我买的是小,开小。\n",
      "赢了！赚了1万当前剩7万 这是玩的第5把\n",
      "--------------------\n",
      "我买的是小,开大。\n",
      "输了！输了1万当前剩6万 这是玩的第6把\n",
      "--------------------\n",
      "我买的是小,开大。\n",
      "输了！输了1万当前剩5万 这是玩的第7把\n",
      "--------------------\n",
      "我买的是大,开小。\n",
      "输了！输了1万当前剩4万 这是玩的第8把\n",
      "--------------------\n",
      "我买的是大,开大。\n",
      "赢了！赚了1万当前剩5万 这是玩的第9把\n",
      "--------------------\n",
      "我买的是大,开大。\n",
      "赢了！赚了1万当前剩6万 这是玩的第10把\n",
      "--------------------\n",
      "我买的是大,开大。\n",
      "赢了！赚了1万当前剩7万 这是玩的第11把\n",
      "--------------------\n",
      "我买的是小,开大。\n",
      "输了！输了1万当前剩6万 这是玩的第12把\n",
      "--------------------\n",
      "我买的是大,开大。\n",
      "赢了！赚了1万当前剩7万 这是玩的第13把\n",
      "--------------------\n",
      "我买的是小,开小。\n",
      "赢了！赚了1万当前剩8万 这是玩的第14把\n",
      "--------------------\n",
      "我买的是大,开大。\n",
      "赢了！赚了1万当前剩9万 这是玩的第15把\n",
      "--------------------\n",
      "我买的是大,开小。\n",
      "输了！输了1万当前剩8万 这是玩的第16把\n",
      "--------------------\n",
      "我买的是小,开小。\n",
      "赢了！赚了1万当前剩9万 这是玩的第17把\n",
      "--------------------\n",
      "我买的是小,开小。\n",
      "赢了！赚了1万当前剩10万 这是玩的第18把\n",
      "--------------------\n",
      "我买的是大,开小。\n",
      "输了！输了1万当前剩9万 这是玩的第19把\n",
      "--------------------\n",
      "我买的是小,开大。\n",
      "输了！输了1万当前剩8万 这是玩的第20把\n",
      "--------------------\n",
      "我买的是小,开大。\n",
      "输了！输了1万当前剩7万 这是玩的第21把\n",
      "--------------------\n",
      "我买的是大,开小。\n",
      "输了！输了1万当前剩6万 这是玩的第22把\n",
      "--------------------\n",
      "我买的是小,开大。\n",
      "输了！输了1万当前剩5万 这是玩的第23把\n",
      "--------------------\n",
      "我买的是大,开大。\n",
      "赢了！赚了1万当前剩6万 这是玩的第24把\n",
      "--------------------\n",
      "我买的是小,开大。\n",
      "输了！输了1万当前剩5万 这是玩的第25把\n",
      "--------------------\n",
      "我买的是大,开小。\n",
      "输了！输了1万当前剩4万 这是玩的第26把\n",
      "--------------------\n",
      "我买的是大,开小。\n",
      "输了！输了1万当前剩3万 这是玩的第27把\n",
      "--------------------\n",
      "我买的是大,开小。\n",
      "输了！输了1万当前剩2万 这是玩的第28把\n",
      "--------------------\n",
      "我买的是小,开大。\n",
      "输了！输了1万当前剩1万 这是玩的第29把\n",
      "--------------------\n",
      "我买的是小,开大。\n",
      "输了！输了1万当前剩0万 这是玩的第30把\n",
      "--------------------\n"
     ]
    }
   ],
   "source": [
    "# 赌徒赌场行为\n",
    "\n",
    "import random\n",
    "\n",
    "dutu_benjin = 100000 # 倾家荡产搞了10万块用于赌博\n",
    "\n",
    "print(\"带着十万块来赌场浪，看看能坚持多久？\")\n",
    "def duchang_guize():\n",
    "    # 骰子一共三颗\n",
    "    shaizi_one = random.randint(1,6)\n",
    "    shaizi_two = random.randint(1,6)\n",
    "    shaizi_three = random.randint(1,6)\n",
    "    shaizihe = shaizi_one + shaizi_two + shaizi_three\n",
    "    kaizhong = 0\n",
    "    if shaizihe <= 10:\n",
    "        print(\"开小。\")\n",
    "    else:\n",
    "        kaizhong = 1\n",
    "        print(\"开大。\")\n",
    "    return kaizhong\n",
    "jishu_count = 0\n",
    "while True:\n",
    "    jishu_count += 1\n",
    "    meicixiazhu = 10000 # 每次下注10000块\n",
    "    mai_daxiao = random.randint(0,1) # 0是买小，1是买大\n",
    "    if mai_daxiao == 0:\n",
    "        print(\"我买的是小\",end = ',')\n",
    "    else:\n",
    "        print(\"我买的是大\",end = ',')\n",
    "    rst1 = duchang_guize()\n",
    "    if rst1 == mai_daxiao:\n",
    "        dutu_benjin += meicixiazhu\n",
    "        print(\"赢了！赚了{0}万当前剩{1}万\".format(int(meicixiazhu/10000),int(dutu_benjin/10000)),\"这是玩的第{}把\".format(jishu_count))\n",
    "        print(\"-\" * 20)\n",
    "    else:\n",
    "        dutu_benjin -= meicixiazhu\n",
    "        print(\"输了！输了{0}万当前剩{1}万\".format(int(meicixiazhu/10000),int(dutu_benjin/10000)),\"这是玩的第{}把\".format(jishu_count))\n",
    "        print(\"-\" * 20)\n",
    "        if dutu_benjin <= 0:\n",
    "            break"
   ]
  },
  {
   "cell_type": "code",
   "execution_count": null,
   "metadata": {},
   "outputs": [],
   "source": [
    "# 赌博50次 方法比较弱智\n",
    "import random\n",
    "\n",
    "dutu_benjin = 100000 # 倾家荡产搞了10万块用于赌博\n",
    "\n",
    "print(\"带着十万块来赌场浪，看看能坚持多久？\")\n",
    "def duchang_guize():\n",
    "    # 骰子一共三颗\n",
    "    shaizi_one = random.randint(1,6)\n",
    "    shaizi_two = random.randint(1,6)\n",
    "    shaizi_three = random.randint(1,6)\n",
    "    shaizihe = shaizi_one + shaizi_two + shaizi_three\n",
    "    kaizhong = 0\n",
    "    if shaizihe <= 10:\n",
    "        print(\"开小。\")\n",
    "    else:\n",
    "        kaizhong = 1\n",
    "        print(\"开大。\")\n",
    "    return kaizhong\n",
    "jishu_count = 0\n",
    "game_count = 0\n",
    "while game_count < 50:\n",
    "    game_count += 1\n",
    "    jishu_count += 1\n",
    "    meicixiazhu = 10000 # 每次下注10000块\n",
    "    mai_daxiao = random.randint(0,1) # 0是买小，1是买大\n",
    "    if mai_daxiao == 0:\n",
    "        print(\"我买的是小\",end = ',')\n",
    "    else:\n",
    "        print(\"我买的是大\",end = ',')\n",
    "    rst1 = duchang_guize()\n",
    "    if rst1 == mai_daxiao:\n",
    "        dutu_benjin += meicixiazhu\n",
    "        print(\"赢了！赚了{0}万当前剩{1}万\".format(int(meicixiazhu/10000),int(dutu_benjin/10000)),\"这是玩的第{}把\".format(jishu_count))\n",
    "        print(\"-\" * 20)\n",
    "    else:\n",
    "        dutu_benjin -= meicixiazhu\n",
    "        print(\"输了！输了{0}万当前剩{1}万\".format(int(meicixiazhu/10000),int(dutu_benjin/10000)),\"这是玩的第{}把\".format(jishu_count))\n",
    "        print(\"-\" * 20)\n",
    "    if dutu_benjin <=0:\n",
    "        break\n",
    "    \n",
    "if dutu_benjin - 100000 >= 100000:\n",
    "    print(\"翻倍了，发财了！\")\n",
    "elif dutu_benjin >= 100000:\n",
    "    print(\"算是保本了\")\n",
    "else:\n",
    "    print(\"输的就剩裤衩了。\")\n",
    "        "
   ]
  },
  {
   "cell_type": "code",
   "execution_count": 1,
   "metadata": {
    "collapsed": true
   },
   "outputs": [
    {
     "name": "stderr",
     "output_type": "stream",
     "text": [
      "No handles with labels found to put in legend.\n"
     ]
    },
    {
     "name": "stdout",
     "output_type": "stream",
     "text": [
      "带着十万块来赌场浪，看看能坚持多久？\n"
     ]
    },
    {
     "data": {
      "text/plain": [
       "<function matplotlib.pyplot.show(*args, **kw)>"
      ]
     },
     "execution_count": 1,
     "metadata": {},
     "output_type": "execute_result"
    },
    {
     "name": "stderr",
     "output_type": "stream",
     "text": [
      "D:\\ProgramData\\Anaconda3\\lib\\site-packages\\matplotlib\\backends\\backend_agg.py:211: RuntimeWarning: Glyph 20010 missing from current font.\n",
      "  font.set_text(s, 0.0, flags=flags)\n",
      "D:\\ProgramData\\Anaconda3\\lib\\site-packages\\matplotlib\\backends\\backend_agg.py:211: RuntimeWarning: Glyph 36172 missing from current font.\n",
      "  font.set_text(s, 0.0, flags=flags)\n",
      "D:\\ProgramData\\Anaconda3\\lib\\site-packages\\matplotlib\\backends\\backend_agg.py:211: RuntimeWarning: Glyph 24466 missing from current font.\n",
      "  font.set_text(s, 0.0, flags=flags)\n",
      "D:\\ProgramData\\Anaconda3\\lib\\site-packages\\matplotlib\\backends\\backend_agg.py:211: RuntimeWarning: Glyph 30340 missing from current font.\n",
      "  font.set_text(s, 0.0, flags=flags)\n",
      "D:\\ProgramData\\Anaconda3\\lib\\site-packages\\matplotlib\\backends\\backend_agg.py:211: RuntimeWarning: Glyph 27425 missing from current font.\n",
      "  font.set_text(s, 0.0, flags=flags)\n",
      "D:\\ProgramData\\Anaconda3\\lib\\site-packages\\matplotlib\\backends\\backend_agg.py:211: RuntimeWarning: Glyph 21338 missing from current font.\n",
      "  font.set_text(s, 0.0, flags=flags)\n",
      "D:\\ProgramData\\Anaconda3\\lib\\site-packages\\matplotlib\\backends\\backend_agg.py:211: RuntimeWarning: Glyph 23616 missing from current font.\n",
      "  font.set_text(s, 0.0, flags=flags)\n",
      "D:\\ProgramData\\Anaconda3\\lib\\site-packages\\matplotlib\\backends\\backend_agg.py:211: RuntimeWarning: Glyph 25968 missing from current font.\n",
      "  font.set_text(s, 0.0, flags=flags)\n",
      "D:\\ProgramData\\Anaconda3\\lib\\site-packages\\matplotlib\\backends\\backend_agg.py:180: RuntimeWarning: Glyph 23616 missing from current font.\n",
      "  font.set_text(s, 0, flags=flags)\n",
      "D:\\ProgramData\\Anaconda3\\lib\\site-packages\\matplotlib\\backends\\backend_agg.py:180: RuntimeWarning: Glyph 25968 missing from current font.\n",
      "  font.set_text(s, 0, flags=flags)\n",
      "D:\\ProgramData\\Anaconda3\\lib\\site-packages\\matplotlib\\backends\\backend_agg.py:211: RuntimeWarning: Glyph 25152 missing from current font.\n",
      "  font.set_text(s, 0.0, flags=flags)\n",
      "D:\\ProgramData\\Anaconda3\\lib\\site-packages\\matplotlib\\backends\\backend_agg.py:211: RuntimeWarning: Glyph 21097 missing from current font.\n",
      "  font.set_text(s, 0.0, flags=flags)\n",
      "D:\\ProgramData\\Anaconda3\\lib\\site-packages\\matplotlib\\backends\\backend_agg.py:211: RuntimeWarning: Glyph 38065 missing from current font.\n",
      "  font.set_text(s, 0.0, flags=flags)\n",
      "D:\\ProgramData\\Anaconda3\\lib\\site-packages\\matplotlib\\backends\\backend_agg.py:180: RuntimeWarning: Glyph 25152 missing from current font.\n",
      "  font.set_text(s, 0, flags=flags)\n",
      "D:\\ProgramData\\Anaconda3\\lib\\site-packages\\matplotlib\\backends\\backend_agg.py:180: RuntimeWarning: Glyph 21097 missing from current font.\n",
      "  font.set_text(s, 0, flags=flags)\n",
      "D:\\ProgramData\\Anaconda3\\lib\\site-packages\\matplotlib\\backends\\backend_agg.py:180: RuntimeWarning: Glyph 30340 missing from current font.\n",
      "  font.set_text(s, 0, flags=flags)\n",
      "D:\\ProgramData\\Anaconda3\\lib\\site-packages\\matplotlib\\backends\\backend_agg.py:180: RuntimeWarning: Glyph 38065 missing from current font.\n",
      "  font.set_text(s, 0, flags=flags)\n",
      "D:\\ProgramData\\Anaconda3\\lib\\site-packages\\matplotlib\\backends\\backend_agg.py:180: RuntimeWarning: Glyph 20010 missing from current font.\n",
      "  font.set_text(s, 0, flags=flags)\n",
      "D:\\ProgramData\\Anaconda3\\lib\\site-packages\\matplotlib\\backends\\backend_agg.py:180: RuntimeWarning: Glyph 36172 missing from current font.\n",
      "  font.set_text(s, 0, flags=flags)\n",
      "D:\\ProgramData\\Anaconda3\\lib\\site-packages\\matplotlib\\backends\\backend_agg.py:180: RuntimeWarning: Glyph 24466 missing from current font.\n",
      "  font.set_text(s, 0, flags=flags)\n",
      "D:\\ProgramData\\Anaconda3\\lib\\site-packages\\matplotlib\\backends\\backend_agg.py:180: RuntimeWarning: Glyph 27425 missing from current font.\n",
      "  font.set_text(s, 0, flags=flags)\n",
      "D:\\ProgramData\\Anaconda3\\lib\\site-packages\\matplotlib\\backends\\backend_agg.py:180: RuntimeWarning: Glyph 21338 missing from current font.\n",
      "  font.set_text(s, 0, flags=flags)\n"
     ]
    }
   ],
   "source": [
    "import random\n",
    "import matplotlib.pyplot as plt\n",
    "# 赌博规则\n",
    "def duchang_guize():\n",
    "    # 骰子一共三颗，这里定义摇骰子规则\n",
    "    shaizi_one = random.randint(1,6) # 第一颗\n",
    "    shaizi_two = random.randint(1,6) # 第二颗\n",
    "    shaizi_three = random.randint(1,6) # 第三颗\n",
    "    shaizihe = shaizi_one + shaizi_two + shaizi_three # 三颗骰子的和\n",
    "    if shaizihe <= 10:\n",
    "        kaidaxiao = 0\n",
    "    else:\n",
    "        kaidaxiao = 1\n",
    "    # 这里去定义输赢规则\n",
    "    mai_daxiao = random.randint(0,1) # 0是买小，1是买大,随机买\n",
    "    if mai_daxiao == kaidaxiao:\n",
    "        rst_maidinglishou = True # 返回True是赢了\n",
    "    else:\n",
    "        rst_maidinglishou = False # 返回False是输了\n",
    "    return rst_maidinglishou\n",
    "\n",
    "# 赌博行为\n",
    "print(\"带着十万块来赌场浪，看看能坚持多久？\")\n",
    "def dubo_xingwei(benjin,xiazhu,cishu):\n",
    "    count_game = 0\n",
    "    win_count = 0\n",
    "    x_la = [] # 赢了还是输了\n",
    "    y_la = [] # 每次剩的钱\n",
    "    z_la = [] # 次数计数\n",
    "    while True:\n",
    "        z_la.append(count_game+1)\n",
    "        count_game += 1\n",
    "        if duchang_guize() == 1:\n",
    "            benjin += xiazhu\n",
    "            x_la.append(1)\n",
    "            y_la.append(benjin)\n",
    "            win_count += 1\n",
    "        else:\n",
    "            benjin -= xiazhu\n",
    "            x_la.append(0)\n",
    "            y_la.append(benjin)\n",
    "        if count_game == cishu or benjin <= 0:\n",
    "            break\n",
    "    plt.plot(z_la,y_la)\n",
    "    return x_la,win_count,benjin,y_la\n",
    "    \n",
    "# 开始赌博\n",
    "#dubo_xingwei(100000,10000,100) #本金10万，每次一万，最多玩100次\n",
    "# 开始画图-饼图\n",
    "def dubo_bingtu():\n",
    "    plt.rcParams['font.sans-serif']=['SimHei'] # 用来防止中文标签乱码\n",
    "    x = [rst1[0].count(0),rst1[0].count(1)]\n",
    "    y = ['输','赢']\n",
    "    col_la = ['blue','yellow']\n",
    "    plt.title(\"赌博输赢概率饼状图\")\n",
    "    plt.pie(x,labels=y,startangle=90,shadow=True,colors=col_la,autopct='%1.2f%%',explode=(0,0.1)) \n",
    "    # autopct计算百分比 1.2小数点后两位 explode爆炸弹出\n",
    "    plt.legend()\n",
    "    plt.show()\n",
    "    print(rst1[2])\n",
    "    return None\n",
    "# dubo_bingtu()\n",
    "\n",
    "# 此时有5个人 看看他们的命运 到最后剩了多少钱\n",
    "n = 0\n",
    "while n <5:\n",
    "    dubo_xingwei(100000,10000,100)\n",
    "    n += 1\n",
    "#plt.rcParams['font.sans-serif']=['SimHei'] # 用来防止中文标签乱码\n",
    "plt.xlabel(\"局数\")\n",
    "plt.ylabel(\"所剩的钱\")\n",
    "plt.title(\"5个赌徒的100次赌博\")\n",
    "plt.legend()\n",
    "plt.show"
   ]
  },
  {
   "cell_type": "code",
   "execution_count": 1,
   "metadata": {},
   "outputs": [],
   "source": [
    "# 等价鞅 -- 没做完\n",
    "# 一旦输了就把赌注加倍，直到赢了为止,赢了再恢复初始赌注\n",
    "import random\n",
    "import matplotlib.pyplot as plt\n",
    "# 赌博规则\n",
    "def duchang_guize():\n",
    "    # 骰子一共三颗，这里定义摇骰子规则\n",
    "    shaizi_one = random.randint(1,6) # 第一颗\n",
    "    shaizi_two = random.randint(1,6) # 第二颗\n",
    "    shaizi_three = random.randint(1,6) # 第三颗\n",
    "    shaizihe = shaizi_one + shaizi_two + shaizi_three # 三颗骰子的和\n",
    "    if shaizihe <= 10:\n",
    "        kaidaxiao = 0\n",
    "    else:\n",
    "        kaidaxiao = 1\n",
    "    # 这里去定义输赢规则\n",
    "    mai_daxiao = random.randint(0,1) # 0是买小，1是买大,随机买\n",
    "    if mai_daxiao == kaidaxiao:\n",
    "        rst_maidinglishou = True # 返回True是赢了\n",
    "    else:\n",
    "        rst_maidinglishou = False # 返回False是输了\n",
    "    return rst_maidinglishou\n",
    "\n",
    "def gaoji_dutu(duben,start_dujin,game_count): # 赌本10万，初始每次1万\n",
    "    now_dujin = start_dujin # 第一的时候本次赌金等于初始赌金\n",
    "    x = []\n",
    "    y = []\n",
    "    now_game_count = 1 # 这是第一轮游戏\n",
    "    last_game = 1 #假设上一轮游戏是赢得\n",
    "    last_game_dujin = start_dujin"
   ]
  },
  {
   "cell_type": "markdown",
   "metadata": {},
   "source": [
    "# <center>正则表达式</center>"
   ]
  },
  {
   "cell_type": "code",
   "execution_count": 14,
   "metadata": {},
   "outputs": [
    {
     "name": "stdout",
     "output_type": "stream",
     "text": [
      "<re.Match object; span=(334, 352), match='232700199011274190'>\n",
      "<re.Match object; span=(47, 58), match='17377777777'>\n",
      "232700199011274190\n",
      "17377777777\n",
      "['17377777777', '18614045811', '15381141117', '18888888888', '23270019901']\n",
      "173\n"
     ]
    }
   ],
   "source": [
    "# 如何从一个字符串总查找到一串数字，比如查找出身份证和电话号码\n",
    "import re\n",
    "\n",
    "message = '''\n",
    "this is asdfmn  sdlfknalnksdfpoi sodifjlkjn er17377777777,m fdskfjhasdofiuyh mn ,wmenfd,masxdfiautgql,enwr,smad fzxvckzjxdgbfqasdf,mn qwer,mnxzlkfjansdf,m\n",
    "sdflkha18614045811sldfknas,mdn fwoeiu15381141117fryskj,mdfn bwqeroqiwejflksdmnf.asmn18888888888 dfwebrkuj\n",
    "sdlfkasjdlfmnwqerfoqief0poiasdf;lknasdnf vqwef\n",
    "saldkfnas,dn fv,aksednjfl232700199011274190qwikejfwpf.,m.s,dfa\n",
    "saldfknxz.cv[pqwpoirjtqwlerknm.,wsdfasdfasdfasdfsdf,.mnqw,emfnqdkiuxc;lvmwe,.fqn,wjebfkjbedf\n",
    "'''\n",
    "# 上面是一串很烦的东西，我的电话号码和身份证隐藏在其中，我得想办法把他挑出来\n",
    "my_id_card = re.compile(r\"\\d\\d\\d\\d\\d\\d\\d\\d\\d\\d\\d\\d\\d\\d\\d\\d\\d\\d\") # 定义身份证的格式 \\d是数字，大部分情况下不写r可能没问题，但是最好写上\n",
    "my_tel_number = re.compile(r\"\\d\\d\\d\\d\\d\\d\\d\\d\\d\\d\\d\") # 定义电话格式\n",
    "rst_id_card = my_id_card.search(message)\n",
    "rst_tel_number = my_tel_number.search(message)\n",
    "print(rst_id_card)  # span标明了位置\n",
    "print(rst_tel_number)\n",
    "print(rst_id_card.group()) # 出去多余信息，只显示match的信息\n",
    "print(rst_tel_number.group())\n",
    "\n",
    "# 但是需要注意，上面这种方法一次只能知道一个指定的字符\n",
    "rst_tel_all = my_tel_number.findall(message)\n",
    "print(rst_tel_all) # 可以看到多出来了一个身份证号码和一个17x的不合格的电话\n",
    "\n",
    "# 假如我想找电话，只看前3位\n",
    "my_pho_number_yunyingshang = re.compile(r\"(\\d\\d\\d)(\\d\\d\\d\\d\\d\\d\\d\\d)\") # 可以通过括号使用\n",
    "rst_pho_number_yunyingshang = my_pho_number_yunyingshang.search(message)\n",
    "print(rst_pho_number_yunyingshang.group(1))"
   ]
  },
  {
   "cell_type": "code",
   "execution_count": 8,
   "metadata": {},
   "outputs": [
    {
     "name": "stdout",
     "output_type": "stream",
     "text": [
      "None\n",
      "(86)-18614045811\n"
     ]
    }
   ],
   "source": [
    "# 以下为更复杂一点的情况\n",
    "# 如果里面的电话格式很复杂 比如是 （86）-18614045811这种格式的话\n",
    "import re\n",
    "message = '''\n",
    "this is asdfmn  sdlfknalnksdfpoi sodifjlkjn er17377777777,m fdskfjhasdofiuyh mn ,wmenfd,masxdfiautgql,enwr,smad fzxvckzjxdgbfqasdf,mn qwer,mnxzlkfjansdf,m\n",
    "sdflkha(86)-18614045811sldfknas,mdn fwoeiu15381141117fryskj,mdfn bwqeroqiwejflksdmnf.asmn18888888888 dfwebrkuj\n",
    "sdlfkasjdlfmnwqerfoqief0poiasdf;lknasdnf vqwef\n",
    "saldkfnas,dn fv,aksednjfl232700199011274190qwikejfwpf.,m.s,dfa\n",
    "saldfknxz.cv[pqwpoirjtqwlerknm.,wsdfasdfasdfasdfsdf,.mnqw,emfnqdkiuxc;lvmwe,.fqn,wjebfkjbedf\n",
    "'''\n",
    "my_tel = re.compile(r\"(\\d\\d)-(\\d\\d\\d\\d\\d\\d\\d\\d\\d\\d\\d)\")\n",
    "rst_tel = my_tel.search(message)\n",
    "print(rst_tel) # 因为加了86加了括号，所以根本搜索不出来\n",
    "# print(rst_tel.group(1),rst_tel.group(2))\n",
    "# 可以定义一个带括号的条件 如下\n",
    "my_tel_new = re.compile(r\"(\\(\\d\\d\\))-(\\d\\d\\d\\d\\d\\d\\d\\d\\d\\d\\d)\") # 注意括号的使用\n",
    "rst_tel_new = my_tel_new.search(message)\n",
    "print(rst_tel_new.group()) # 这样就可以"
   ]
  },
  {
   "cell_type": "code",
   "execution_count": 21,
   "metadata": {},
   "outputs": [
    {
     "name": "stdout",
     "output_type": "stream",
     "text": [
      "1538114\n"
     ]
    }
   ],
   "source": [
    "# 考虑更加复杂的情况\n",
    "# 如何把153开头的电话都找出来\n",
    "import re\n",
    "message = '''\n",
    "this is asdfmn  sdlfknalnksdfpoi sodifjlkjn er17377777777,m fdskfjhasdofiuyh mn ,wmenfd,masxdfiautgql,enwr,smad fzxvckzjxdgbfqasdf,mn qwer,mnxzlkfjansdf,m\n",
    "sdflkha(86)-18614045811sldfknas,mdn fwoeiu15381141117fryskj,mdfn bwqeroqiwejflksdmnf.asmn18888888888 dfwebrkuj\n",
    "sdlfkasjdlfmnwqerfoqief0poiasdf;lknasdnf18977271231 vqwef\n",
    "saldkfnas,dn fv,aksednjfl232700199011274190qw15382635643ikejfwpf.,m.s,dfa\n",
    "saldfknxz.cv[pqwpoirjtqwlerknm.,wsdfasdfasdfasdfsdf,.mnqw,emfnqdkiuxc;lvmwe,.fqn,wjebfkjbedf\n",
    "'''\n",
    "my_rule_153 = re.compile(r\"153(8114|8263)\") # 可以利用括号和管道符\n",
    "rst_rule_153 = my_rule_153.search(message)\n",
    "print(rst_rule_153.group())"
   ]
  },
  {
   "cell_type": "code",
   "execution_count": 43,
   "metadata": {},
   "outputs": [
    {
     "name": "stdout",
     "output_type": "stream",
     "text": [
      "Tom Hanks\n"
     ]
    }
   ],
   "source": [
    "# 假如有这样一种情况 外国人一般有first name middle name last name，但是中间的名字一般会省略\n",
    "import re\n",
    "message = '''\n",
    "this is asdfmn  sdlfknalnksdfpoi sodifjlkjn er17377777777,m fdskfjhasdofiuyh mn ,wmenfd,masxdfiautgql,enwr,smad fzxvckzjxdgbfqasdf,mn qwer,mnxzlkfjansdf,m\n",
    "sdflkha(86)-18614045811sTom Hanksldfknas,mdn fwoeiu15381141117fryskj,mdfn bwqeroqiwejflksdmnf.asmn18888888888 dfwebrkuj\n",
    "sdlfkasjdlfmnwqerfoqief0poiasdf;lknasdnf18977271231 vqwef\n",
    "saldkfnas,dn fv,aksednjfl232700199011274190qw15382635643ikejfwpf.,m.s,dfa\n",
    "saldfknxz.cv[pqwpoirjtqwlerknm.,wsdfasdfasdfasdfsdf,.mnqw,emfnqdkiuxc;lvmwe,.fqn,wjebfkjbedf\n",
    "'''\n",
    "my_find_name = re.compile(r\"Tom (Dodo )?Hanks\") # 这里可以通过()?这种方式去做一个可选项，但是要注意空格问题\n",
    "# 可以把空格加进中间的可选项里\n",
    "rst_find_name = my_find_name.search(message)\n",
    "print(rst_find_name.group())"
   ]
  },
  {
   "cell_type": "code",
   "execution_count": 85,
   "metadata": {},
   "outputs": [
    {
     "name": "stdout",
     "output_type": "stream",
     "text": [
      "hello~~~~\n",
      "hello~~\n",
      "<re.Match object; span=(47, 58), match='17377777777'>\n",
      "None\n"
     ]
    }
   ],
   "source": [
    "import re\n",
    "text1 = '''\n",
    "this is asdfmn  sdlfknalnksdfpoi sodifjlkjn er17377777777,m fdskfjhasdofiuyh mn ,wmenfd,masxdfiautgql,enwr,smad fzxvckzjxdgbfqasdf,mn qwer,mnxzlkfjansdf,m\n",
    "sdflkha(86)-18614045811sTom Hankshello~~~~！~ldfknas,mdn fwoeiu15381141117fryskj,mdfn bwqeroqiwejflksdmnf.asmn18888888888 dfwebrkuj\n",
    "sdlfkasjdlfmnwqerfoqief0poiasdf;lknasdnf18977271231 vqwef\n",
    "saldkfnas,dn fv,aksednjfl2327001990112hello~~74190qw15382635643ikejfwpf.,m.s,dfa\n",
    "saldfknxz.cv[pqwpoirjtqwlerknm.,wsdfasdfasdfasdfsdf,.mnqw,emfnqdkiuxc;lvmwe,.fqn,wjebfkjbedf\n",
    "'''\n",
    "my_find_hello = re.compile(r\"hello(~)+\") # 利用*可以找到很多个可选字符 +也可以\n",
    "rst_find_hello = my_find_hello.search(text1)\n",
    "print(rst_find_hello.group())\n",
    "\n",
    "# 现在有两个波浪线的还有四个波浪线的，怎么把两个波浪线的找出来\n",
    "my_find_hello_new = re.compile(r\"hello(~){2}\") # 利用大括号就可以精确找到两个波浪线的字符\n",
    "rst_find_hello_new = my_find_hello_new.search(text1) \n",
    "print(rst_find_hello_new.group())\n",
    "\n",
    "# 所以当查找电话号码的时候也可以使用上面的方式进行简化\n",
    "my_find_tel_new = re.compile(r\"(\\d){11}\") # 11个数字\n",
    "my_rst_tel = my_find_tel_new.search(text1)\n",
    "print(my_rst_tel)\n",
    "\n",
    "# 还可以设置字符区间\n",
    "my_find_tel_new_1 = re.compile(r\"(\\d){2,8}？\") # 2到8个数字 如果不加问好再试一下？ ？带表是不是贪婪的，不加？查到的多，能查到多少个就尽量查找多少个\n",
    "my_rst_tel_1 = my_find_tel_new_1.search(text1)\n",
    "print(my_rst_tel_1)"
   ]
  },
  {
   "cell_type": "code",
   "execution_count": 109,
   "metadata": {},
   "outputs": [
    {
     "name": "stdout",
     "output_type": "stream",
     "text": [
      "[('0', '1', '9'), ('0', '0', '8'), ('0', '1', '9'), ('0', '0', '8')]\n"
     ]
    }
   ],
   "source": [
    "# findall的用法\n",
    "# 在百度网页的源代码中把电话号码找出来\n",
    "import re\n",
    "baidu_text = r'''\n",
    "\n",
    "<!DOCTYPE html>\n",
    "<html lang=\"en\">\n",
    "\n",
    "<head>\n",
    "  <meta charset=\"utf-8\">\n",
    "  <meta name=\"baidu-site-verification\" content=\"m1imKvW1HK\" />\n",
    "  <link rel=\"shortcut icon\" href=\"/Public/img/favicon.ico\" type=\"image/x-icon\">\n",
    "  <meta name=\"viewport\" content=\"width=device-width, initial-scale=1\">\n",
    "  <meta http-equiv=\"x-ua-compatible\" content=\"ie=edge\">\n",
    "  <!-- Bootstrap CSS -->\n",
    "  <!-- <link href=\"https://cdn.bootcss.com/bootstrap/4.0.0-alpha.6/css/bootstrap.min.css\" rel=\"stylesheet\"> -->\n",
    "  <meta name=\"viewport\" content=\"width=device-width, initial-scale=1, maximum-scale=1 user-scalable=no\" />\n",
    "<!-- 删除默认的苹果工具栏和菜单栏 ： 即启用 WebApp 全屏模式  -->\n",
    "<meta name=\"apple-mobile-web-app-capable\" content=\"yes\" />\n",
    "<!-- 在web app应用下状态条（屏幕顶部条）的颜色；默认值为default（白色），可以定为black（黑色）和black-translucent（灰色半透明）若值为“black-translucent”将会占据页面px位置，浮在页面上方（会覆盖页面20px高度–iphone4和itouch4的Retina屏幕为40px）。 -->\n",
    "<meta name=\"apple-mobile-web-app-status-bar-style\" content=\"black\" />\n",
    "<!-- 忽略数字自动识别为电话号码 ,忽略识别邮箱 -->\n",
    "<meta name=\"format-detection\" content=\"telephone=no, email=no\" />\n",
    "<!-- 启用360浏览器的极速模式(webkit) -->\n",
    "<meta name=\"renderer\" content=\"webkit\">\n",
    "<!-- 避免IE使用兼容模式 -->\n",
    "<meta http-equiv=\"X-UA-Compatible\" content=\"IE=edge\">\n",
    "<!-- uc强制竖屏 -->\n",
    "<meta name=\"screen-orientation\" content=\"portrait\" />\n",
    "<!-- QQ强制竖屏 -->\n",
    "<meta name=\"x5-orientation\" content=\"portrait\">\n",
    "<!-- UC强制全屏 -->\n",
    "<meta name=\"full-screen\" content=\"true\" />\n",
    "<!-- QQ强制全屏 -->\n",
    "<meta name=\"x5-fullscreen\" content=\"true\" />\n",
    "<!-- 360强制全屏 -->\n",
    "<meta name=\"360-fullscreen\" content=\"true\" />\n",
    "<!-- 站内搜索站点验证 -->\n",
    "<meta name=\"baidu-site-verification\" content=\"m1imKvW1HK\" />\n",
    "<link rel=\"shortcut icon\" href=\"/Public/img/favicon.ico\" type=\"image/x-icon\">\n",
    "<script src=\"/Public/js/fontbase.js?v=12\"></script>\n",
    "<link href=\"/Public/css/lib/bootstrap.min.css?v=14\" rel=\"stylesheet\">\n",
    "<!-- HTML5 shim and Respond.js for IE8 support of HTML5 elements and media queries -->\n",
    "<!-- WARNING: Respond.js doesn't work if you view the page via file:// -->\n",
    "<!--[if lt IE 9]>\n",
    "      <script src=\"https://cdn.bootcss.com/html5shiv/3.7.3/html5shiv.min.js\"></script>\n",
    "      <script src=\"https://cdn.bootcss.com/respond.js/1.4.2/respond.min.js\"></script>\n",
    "    <![endif]-->\n",
    "<link rel=\"stylesheet\" href=\"/Public/css/common.css?v=16\">\n",
    "<script type=\"text/javascript\">\n",
    "var _bdhmProtocol = ((\"https:\" == document.location.protocol) ? \" https://\" : \" http://\");\n",
    "document.write(unescape(\"%3Cscript src='\" + _bdhmProtocol + \"hm.baidu.com/h.js%3Fb9a77820b2fa17d7223b50a01ab1aa7a' type='text/javascript'%3E%3C/script%3E\"));\n",
    "</script>\n",
    "\n",
    "  <link href=\"/Public/css/slick.css?v=12\" rel=\"stylesheet\">\n",
    "  <link href=\"/Public/css/slick-theme.css?v=12\" rel=\"stylesheet\">\n",
    "  <link rel=\"stylesheet\" href=\"/Public/css/contactUs.css?v=16\">\n",
    "  <title>联系百度</title>\n",
    "  <meta name=\"description\" content='总机：(+86 10)5992 8888 TEL: (+86 10)5992 8888传真：(+86 10)5992 0000 FAX:(+86 10)5992 0000'>\n",
    "  <meta name=\"keywords\" content=\"百度办公地址、百度联系方式、联系百度、如何联系百度、怎么联系百度\">\n",
    "</head>\n",
    "\n",
    "<body id=\"contactUs\">\n",
    "  <div class=\"main\">\n",
    "    <div class=\"bd-content-nav nav-show J-bd-nav\">\n",
    "  <div class=\"section nav-section\">\n",
    "    <div class=\"nav-box\">\n",
    "      <div class=\"row\">\n",
    "        <div class=\"col-sm-2 col-xs-12\">\n",
    "          <a href=\"/home/index\">\n",
    "            <img src=\"/Public/img/logo.png?v=15\" alt=\"\" class=\"logo\">\n",
    "          </a>\n",
    "        </div>\n",
    "        <div class=\"col-sm-10 col-xs-12\">\n",
    "          <ul class=\"bd-nav\">\n",
    "            <li class=\"nav-bd-link active\"><a href=\"/home/index\" target=\"_blank\">关于百度</a></li>\n",
    "            <li class=\"nav-bd-link\"><a href=\"//www.baidu.com/more/\" target=\"_blank\">关于产品</a></li>\n",
    "            <li class=\"nav-bd-link\"><a href=\"/home/index/join_us\" target=\"_blank\">加入我们</a></li>\n",
    "            <li class=\"nav-bd-link\"><a href=\"/home/index/contact_us\" target=\"_blank\">联系我们</a></li>\n",
    "            <div class=\"sideline\"></div>\n",
    "          </ul>\n",
    "        </div>\n",
    "        <div class=\"bd-content-fun\">\n",
    "          <div class=\"home-div\">\n",
    "            <span class=\"cn-home-link\">中文</span>|\n",
    "            <a href=\"//ir.baidu.com/phoenix.zhtml?c=188488&p=irol-irhome\" class=\"en-home-link\" target=\"_blank\">EN</a>\n",
    "          </div>\n",
    "          <script type=\"text/javascript\">(function(){document.write(unescape('%3Cdiv id=\"bdcs\"%3E%3C/div%3E'));var bdcs = document.createElement('script');bdcs.type = 'text/javascript';bdcs.async = true;bdcs.src = 'http://znsv.baidu.com/customer_search/api/js?sid=6706059176758103565' + '&plate_url=' + encodeURIComponent(window.location.href) + '&t=' + Math.ceil(new Date()/3600000);var s = document.getElementsByTagName('script')[0];s.parentNode.insertBefore(bdcs, s);})();</script>\n",
    "\n",
    "\n",
    "        </div>\n",
    "      </div>\n",
    "    </div>\n",
    "  </div>\n",
    "</div>\n",
    "<div class=\"h5-nav-bar J-bd-nav\">\n",
    "  <!-- <div class=\"h5-nav-search-btn\"></div> -->\n",
    "  <div class=\"logo-box\">\n",
    "    <img src=\"/Public/img/logo.png?v=15\" alt=\"\" class=\"h5-nav-logo\">\n",
    "  </div>\n",
    "  <svg id=\"list\" class=\"h5-nav-toggle-box\" width=\"44\" height=\"44\" viewBox=\"0, 0, 44, 44\"></svg>\n",
    "  <div class=\"h5-nav-list\">\n",
    "    <a href=\"/home/index\" class=\"h5-nav h5-active\" target=\"_blank\">关于百度</a>\n",
    "    <a href=\"//www.baidu.com/more/\" class=\"h5-nav\" target=\"_blank\">关于产品</a>\n",
    "    <a href=\"/home/index/join_us\" class=\"h5-nav\" target=\"_blank\">加入我们</a>\n",
    "    <a href=\"/home/index/contact_us\" class=\"h5-nav\" target=\"_blank\">联系我们</a>\n",
    "    <a href=\"//ir.baidu.com/phoenix.zhtml?c=188488&p=irol-irhome\" class=\"h5-nav\" target=\"_blank\">ENGLISH</a>\n",
    "  </div>\n",
    "</div>\n",
    "<div class=\"h5-nav-mask\"></div>\n",
    "\n",
    "    <div class=\"main-body\">\n",
    "      <div class=\"left-box\">\n",
    "        <div class=\"bg-box hidden-xs\">\n",
    "          <img src=\"http://static.home.baidu.com/homebd/hmkljbndfacgie1496931590.png?authorization=bce-auth-v1%2Fe6803def36ae467f81ebdb4bdc75f119%2F2017-06-08T14%3A19%3A51Z%2F-1%2F%2Fb22b9cafba3b3aa07aa331fb038d0c6df9eaa1c7aae35bae4281357217f0dba1\" class=\"background\">\n",
    "          <div class=\"phone-title\">\n",
    "            <p style=\"text-align: center;\"><span style=\"font-size: 44px;\">联系我们</span></p>          </div>\n",
    "          <div class=\"contact-phone\">\n",
    "            <p class=\"phone-num-line\">\n",
    "\n",
    "              <span class=\"line-ch\">总机：(+86 10)5992 8888</span><span class=\"line-ch\">TEL: (+86 10)5992 8888</span><span class=\"line-ch\">传真：(+86 10)5992 0000</span><span class=\"line-ch\">FAX:(+86 10)5992 0000</span>            </p>\n",
    "          </div>\n",
    "        <div class=\"map-content\">\n",
    "            <div class=\"map-content-title\">\n",
    "              <img src=\"http://static.home.baidu.com/homebd/bhgdjmlcfkaien1496931694.jpg?authorization=bce-auth-v1%2Fe6803def36ae467f81ebdb4bdc75f119%2F2017-06-08T14%3A21%3A34Z%2F-1%2F%2Ff26a3d3d9eaa094ed1006bc2efae1f1cd3cf40261cffd6e835704e20d4faec1b\" class=\"map-content-flag\">\n",
    "              <span class=\"map-content-country\">北京</span>\n",
    "              <p class=\"map-content-line\"></p>\n",
    "            </div>\n",
    "            <div class=\"map-all-box\">\n",
    "                <div data-href=\"http://map.baidu.com/?newmap=1&amp;ie=utf-8&amp;s=s%26wd%3D%E7%99%BE%E5%BA%A6%E5%A4%A7%E5%8E%A6\" class=\"contact-list\">\n",
    "                  <img src=\"http://static.home.baidu.com/homebd/jhmlgefinkadbc1496932028.png?authorization=bce-auth-v1%2Fe6803def36ae467f81ebdb4bdc75f119%2F2017-06-08T14%3A27%3A08Z%2F-1%2F%2F3d81f1beeb8a94b113e4fffd76669f666547f9de7d60fd28ebc4126339f92536\" class=\"map-img\">\n",
    "                  <div class=\"contact-address\">\n",
    "                      百度大厦                      <p style=\"text-align: left;\">北京市海淀区上地十街10号百度大厦<br/></p><p style=\"text-align: left;\">Baidu Campus, No. 10 Shangdi 10th Street, Haidian District, Beijing, China<br/></p><p style=\"text-align: left;\">邮 编：100085<br/></p><p style=\"text-align: left;\">Post Code：100085<br/></p>                  </div>\n",
    "                </div>\n",
    "              </div><div class=\"map-all-box\">\n",
    "                <div data-href=\"http://map.baidu.com/?newmap=1&amp;ie=utf-8&amp;s=s%26wd%3D%E7%99%BE%E5%BA%A6%E7%A7%91%E6%8A%80%E5%9B%AD\" class=\"contact-list\">\n",
    "                  <img src=\"http://static.home.baidu.com/homebd/imcefadbhklgjn1496932068.png?authorization=bce-auth-v1%2Fe6803def36ae467f81ebdb4bdc75f119%2F2017-06-08T14%3A27%3A48Z%2F-1%2F%2Fcaa7741d5985e46d3a432c780821ed7b87c966510642a579a7d251b151585f8d\" class=\"map-img\">\n",
    "                  <div class=\"contact-address\">\n",
    "                      百度科技园                      <p style=\"text-align: left;\">北京市海淀区西北旺东路10号院百度科技园1号楼－5号楼</p><p style=\"text-align: left;\">Baidu Technology Park Building No.1－No.5 No.10 Xibeiwang East Road,Haidian District, Beijing, China</p><p style=\"text-align: left;\">邮 编：100193</p><p style=\"text-align: left;\">Post Code：100193</p>                  </div>\n",
    "                </div>\n",
    "              </div><div class=\"map-all-box\">\n",
    "                <div data-href=\"http://map.baidu.com/?newmap=1&amp;ie=utf-8&amp;s=s%26wd%3D%E9%B9%8F%E5%AF%B0%E5%9B%BD%E9%99%85%E5%A4%A7%E5%8E%A6\" class=\"contact-list\">\n",
    "                  <img src=\"http://static.home.baidu.com/homebd/enhgmifdkabclj1496932352.png?authorization=bce-auth-v1%2Fe6803def36ae467f81ebdb4bdc75f119%2F2017-06-08T14%3A32%3A33Z%2F-1%2F%2F7182432f1fbc5b1107c36818ff6fdf8a3909a756747f1311efab5626f881ecd1\" class=\"map-img\">\n",
    "                  <div class=\"contact-address\">\n",
    "                      鹏寰办公区                      <p style=\"text-align: left;\">北京市海淀区上地东路1号盈创动力园区D座</p><p style=\"text-align: left;\">POWER CREATIVE D, No.1 Shangdi East Road, Haidian District, Beijing, China</p><p style=\"text-align: left;\">邮 编：100085</p><p style=\"text-align: left;\">Post Code：100085</p>                  </div>\n",
    "                </div>\n",
    "              </div><div class=\"map-all-box\">\n",
    "                <div data-href=\"http://map.baidu.com/?newmap=1&amp;ie=utf-8&amp;s=s%26wd%3D%E8%85%BE%E9%A3%9E%E9%AB%98%E7%A7%91%E5%B2%AD\" class=\"contact-list\">\n",
    "                  <img src=\"http://static.home.baidu.com/homebd/gdjmeblhancikf1496932567.jpg?authorization=bce-auth-v1%2Fe6803def36ae467f81ebdb4bdc75f119%2F2017-06-08T14%3A36%3A08Z%2F-1%2F%2Fe1de1cd613b4596d207258579a3168c23a7478cb4c111ff2844c73d4886b9fae\" class=\"map-img\">\n",
    "                  <div class=\"contact-address\">\n",
    "                      凯龙办公区                      <p style=\"text-align: left;\">北京市海淀区东北旺西路8号中关村软件园17号北楼3层</p><p style=\"text-align: left;\">No.17 Building, Zhongguancun Software Park, 8 Dongbeiwang West Road,Haidian District, Beijing, China</p><p style=\"text-align: left;\">邮 编：100193</p><p style=\"text-align: left;\">Post Code：100193</p>                  </div>\n",
    "                </div>\n",
    "              </div>            </div><div class=\"map-content\">\n",
    "            <div class=\"map-content-title\">\n",
    "              <img src=\"http://static.home.baidu.com/homebd/bhgdjmlcfkaien1496931694.jpg?authorization=bce-auth-v1%2Fe6803def36ae467f81ebdb4bdc75f119%2F2017-06-08T14%3A21%3A34Z%2F-1%2F%2Ff26a3d3d9eaa094ed1006bc2efae1f1cd3cf40261cffd6e835704e20d4faec1b\" class=\"map-content-flag\">\n",
    "              <span class=\"map-content-country\">上海</span>\n",
    "              <p class=\"map-content-line\"></p>\n",
    "            </div>\n",
    "            <div class=\"map-all-box\">\n",
    "                <div data-href=\"http://map.baidu.com/?newmap=1&amp;s=inf%26uid%3D70b23e86c6e7113e58f6befd%26wd%3D%E7%99%BE%E5%BA%A6%E4%B8%8A%E6%B5%B7%E7%A0%94%E5%8F%91%E4%B8%AD%E5%BF%83%26all%3D1%26c%3D131&amp;from=alamap&amp;tpl=map_singlepoint\" class=\"contact-list\">\n",
    "                  <img src=\"http://static.home.baidu.com/homebd/cbnkgjalheifdm1496932591.png?authorization=bce-auth-v1%2Fe6803def36ae467f81ebdb4bdc75f119%2F2017-06-08T14%3A36%3A32Z%2F-1%2F%2F05c732c3a54381182d8e28f51d9709ac2fd4983b5aa9c0f602e1ab35d3d652cc\" class=\"map-img\">\n",
    "                  <div class=\"contact-address\">\n",
    "                      上海研发中心                      <p style=\"text-align: left;\">上海市浦东新区纳贤路701号百度上研大厦</p><p style=\"text-align: left;\">701 Na Xian Road, Pudong ,Shanghai,China</p><p style=\"text-align: left;\">邮　编：201210</p><p style=\"text-align: left;\">Post Code: 201210</p>                  </div>\n",
    "                </div>\n",
    "              </div>            </div><div class=\"map-content\">\n",
    "            <div class=\"map-content-title\">\n",
    "              <img src=\"http://static.home.baidu.com/homebd/bhgdjmlcfkaien1496931694.jpg?authorization=bce-auth-v1%2Fe6803def36ae467f81ebdb4bdc75f119%2F2017-06-08T14%3A21%3A34Z%2F-1%2F%2Ff26a3d3d9eaa094ed1006bc2efae1f1cd3cf40261cffd6e835704e20d4faec1b\" class=\"map-content-flag\">\n",
    "              <span class=\"map-content-country\">深圳</span>\n",
    "              <p class=\"map-content-line\"></p>\n",
    "            </div>\n",
    "            <div class=\"map-all-box\">\n",
    "                <div data-href=\"http://map.baidu.com/?newmap=1&amp;ie=utf-8&amp;s=s%26wd%3D%E6%B7%B1%E5%9C%B3%E5%B8%82%E5%8D%97%E5%B1%B1%E5%8C%BA%E5%AD%A6%E5%BA%9C%E8%B7%AF%E4%B8%9C%E7%99%BE%E5%BA%A6%E5%9B%BD%E9%99%85%E5%A4%A7%E5%8E%A6\" class=\"contact-list\">\n",
    "                  <img src=\"http://static.home.baidu.com/homebd/fbgdlkacjeihnm1496932612.png?authorization=bce-auth-v1%2Fe6803def36ae467f81ebdb4bdc75f119%2F2017-06-08T14%3A36%3A52Z%2F-1%2F%2Ff1d0e0c33568ee527713199dcce81e2b1914dd30e6c5d1703780febe21eb8d8b\" class=\"map-img\">\n",
    "                  <div class=\"contact-address\">\n",
    "                      深圳研发中心                      <p style=\"text-align: left;\">深圳市南山区学府路东百度国际大厦</p><p style=\"text-align: left;\">Baidu International Building, Xuefu Road East,Nanshan District,ShenZhen</p><p style=\"text-align: left;\">邮　编：518000</p><p style=\"text-align: left;\">Post Code: 518000</p>                  </div>\n",
    "                </div>\n",
    "              </div>            </div><div class=\"map-content\">\n",
    "            <div class=\"map-content-title\">\n",
    "              <img src=\"http://static.home.baidu.com/homebd/jabedcimgnlhkf1496931818.jpg?authorization=bce-auth-v1%2Fe6803def36ae467f81ebdb4bdc75f119%2F2017-06-08T14%3A23%3A39Z%2F-1%2F%2F88ac2e4ae707978be6afc511c9689042e42c905a1339023839f5d8f2439703bb\" class=\"map-content-flag\">\n",
    "              <span class=\"map-content-country\">森尼韦尔</span>\n",
    "              <p class=\"map-content-line\"></p>\n",
    "            </div>\n",
    "            <div class=\"map-all-box\">\n",
    "                <div data-href=\"http://j.map.baidu.com/nDI-e\" class=\"contact-list\">\n",
    "                  <img src=\"http://static.home.baidu.com/homebd/hicbldjfagknem1496932625.png?authorization=bce-auth-v1%2Fe6803def36ae467f81ebdb4bdc75f119%2F2017-06-08T14%3A37%3A06Z%2F-1%2F%2F1f2c046e3869909b15e4c92eb16664d1b0e727d3e15799650520b01b96c9c5b2\" class=\"map-img\">\n",
    "                  <div class=\"contact-address\">\n",
    "                      Baidu USA                      <p style=\"text-align: left;\">1195 Bordeaux Drive Sunnyvale</p><p style=\"text-align: left;\">Post Code: CA 94089</p>                  </div>\n",
    "                </div>\n",
    "              </div>            </div>\n",
    "\n",
    "        <div class=\"foot-box\">\n",
    "          <p class=\"map-content-line-footer\"></p>\n",
    "          <div class=\"contact-mail\">\n",
    "            <div class=\"mail-box\">\n",
    "                <div class=\"mail-title\">\n",
    "                  合作联系                </div>\n",
    "                <div class=\"mail-content\">\n",
    "                  <span class=\"mail-content-text\">\n",
    "                      市场合作：upmco@baidu.com                  </span><span class=\"mail-content-text\">\n",
    "                      校园合作：campusmaster@baidu.com                  </span><span class=\"mail-content-text\">\n",
    "                      战略合作：zhanzhangpingtai@baidu.com                  </span>                </div>\n",
    "              </div><div class=\"mail-box\">\n",
    "                <div class=\"mail-title\">\n",
    "                  业务联系                </div>\n",
    "                <div class=\"mail-content\">\n",
    "                  <span class=\"mail-content-text\">\n",
    "                      百度无线：mbaidu@baidu.com                  </span><span class=\"mail-content-text\">\n",
    "                      百度推广售后热线：400-921-9999                  </span><span class=\"mail-content-text\">\n",
    "                      百度推广销售热线：400-800-8888                  </span>                </div>\n",
    "              </div><div class=\"mail-box\">\n",
    "                <div class=\"mail-title\">\n",
    "                  投诉中心                </div>\n",
    "                <div class=\"mail-content\">\n",
    "                  <span class=\"mail-content-text\">\n",
    "                      投诉中心网址： http://help.baidu.com                  </span><span class=\"mail-content-text\">\n",
    "                      职业道德举报邮箱：bdjb@baidu.com                  </span>                </div>\n",
    "              </div>          </div>\n",
    "        </div>\n",
    "        </div>\n",
    "\n",
    "\n",
    "\n",
    "\n",
    "\n",
    "      <!-- 移动端 -->\n",
    "      <div class=\"m-box visible-xs-block\">\n",
    "        <img src=\"http://static.home.baidu.com/homebd/hmkljbndfacgie1496931590.png?authorization=bce-auth-v1%2Fe6803def36ae467f81ebdb4bdc75f119%2F2017-06-08T14%3A19%3A51Z%2F-1%2F%2Fb22b9cafba3b3aa07aa331fb038d0c6df9eaa1c7aae35bae4281357217f0dba1\" class=\"m-background\">\n",
    "        <div class=\"m-phone-title\">\n",
    "          <p style=\"text-align: center;\"><span style=\"font-size: 44px;\">联系我们</span></p>        </div>\n",
    "        <div class=\"m-contact-phone\">\n",
    "          <p class=\"m-phone-num-line\">\n",
    "              <span class=\"m-line-ch\">总机：(+86 10)5992 8888</span><span class=\"m-line-ch\">TEL: (+86 10)5992 8888</span><span class=\"m-line-ch\">传真：(+86 10)5992 0000</span><span class=\"m-line-ch\">FAX:(+86 10)5992 0000</span>          </p>\n",
    "        </div>\n",
    "\n",
    "      <div class=\"m-map-content\">\n",
    "            <div class=\"m-map-content-title\">\n",
    "              <img src=\"http://static.home.baidu.com/homebd/bhgdjmlcfkaien1496931694.jpg?authorization=bce-auth-v1%2Fe6803def36ae467f81ebdb4bdc75f119%2F2017-06-08T14%3A21%3A34Z%2F-1%2F%2Ff26a3d3d9eaa094ed1006bc2efae1f1cd3cf40261cffd6e835704e20d4faec1b\" class=\"m-map-content-flag\">\n",
    "              <span class=\"m-map-content-country\">北京</span>\n",
    "              <p class=\"m-map-content-line\"></p>\n",
    "            </div>\n",
    "          <div class=\"m-map-all-box\">\n",
    "              <a href=\"//rc.mbd.baidu.com/zgks4zo\">\n",
    "                <p class=\"m-address-title\">百度大厦</p>\n",
    "                <img src=\"http://static.home.baidu.com/homebd/jhmlgefinkadbc1496932028.png?authorization=bce-auth-v1%2Fe6803def36ae467f81ebdb4bdc75f119%2F2017-06-08T14%3A27%3A08Z%2F-1%2F%2F3d81f1beeb8a94b113e4fffd76669f666547f9de7d60fd28ebc4126339f92536\" class=\"m-map-img\">\n",
    "                <div class=\"m-contact-address\">\n",
    "                      <p style=\"text-align: left;\">北京市海淀区上地十街10号百度大厦<br/></p><p style=\"text-align: left;\">Baidu Campus, No. 10 Shangdi 10th Street, Haidian District, Beijing, China<br/></p><p style=\"text-align: left;\">邮 编：100085<br/></p><p style=\"text-align: left;\">Post Code：100085<br/></p>                </div>\n",
    "              </a>\n",
    "            </div><div class=\"m-map-all-box\">\n",
    "              <a href=\"//rc.mbd.baidu.com/xx7k3fy\">\n",
    "                <p class=\"m-address-title\">百度科技园</p>\n",
    "                <img src=\"http://static.home.baidu.com/homebd/imcefadbhklgjn1496932068.png?authorization=bce-auth-v1%2Fe6803def36ae467f81ebdb4bdc75f119%2F2017-06-08T14%3A27%3A48Z%2F-1%2F%2Fcaa7741d5985e46d3a432c780821ed7b87c966510642a579a7d251b151585f8d\" class=\"m-map-img\">\n",
    "                <div class=\"m-contact-address\">\n",
    "                      <p style=\"text-align: left;\">北京市海淀区西北旺东路10号院百度科技园1号楼－5号楼</p><p style=\"text-align: left;\">Baidu Technology Park Building No.1－No.5 No.10 Xibeiwang East Road,Haidian District, Beijing, China</p><p style=\"text-align: left;\">邮 编：100193</p><p style=\"text-align: left;\">Post Code：100193</p>                </div>\n",
    "              </a>\n",
    "            </div><div class=\"m-map-all-box\">\n",
    "              <a href=\"//rc.mbd.baidu.com/x4hpfyf\">\n",
    "                <p class=\"m-address-title\">鹏寰办公区</p>\n",
    "                <img src=\"http://static.home.baidu.com/homebd/enhgmifdkabclj1496932352.png?authorization=bce-auth-v1%2Fe6803def36ae467f81ebdb4bdc75f119%2F2017-06-08T14%3A32%3A33Z%2F-1%2F%2F7182432f1fbc5b1107c36818ff6fdf8a3909a756747f1311efab5626f881ecd1\" class=\"m-map-img\">\n",
    "                <div class=\"m-contact-address\">\n",
    "                      <p style=\"text-align: left;\">北京市海淀区上地东路1号盈创动力园区D座</p><p style=\"text-align: left;\">POWER CREATIVE D, No.1 Shangdi East Road, Haidian District, Beijing, China</p><p style=\"text-align: left;\">邮 编：100085</p><p style=\"text-align: left;\">Post Code：100085</p>                </div>\n",
    "              </a>\n",
    "            </div><div class=\"m-map-all-box\">\n",
    "              <a href=\"//rc.mbd.baidu.com/vmclz03\">\n",
    "                <p class=\"m-address-title\">凯龙办公区</p>\n",
    "                <img src=\"http://static.home.baidu.com/homebd/gdjmeblhancikf1496932567.jpg?authorization=bce-auth-v1%2Fe6803def36ae467f81ebdb4bdc75f119%2F2017-06-08T14%3A36%3A08Z%2F-1%2F%2Fe1de1cd613b4596d207258579a3168c23a7478cb4c111ff2844c73d4886b9fae\" class=\"m-map-img\">\n",
    "                <div class=\"m-contact-address\">\n",
    "                      <p style=\"text-align: left;\">北京市海淀区东北旺西路8号中关村软件园17号北楼3层</p><p style=\"text-align: left;\">No.17 Building, Zhongguancun Software Park, 8 Dongbeiwang West Road,Haidian District, Beijing, China</p><p style=\"text-align: left;\">邮 编：100193</p><p style=\"text-align: left;\">Post Code：100193</p>                </div>\n",
    "              </a>\n",
    "            </div>        </div><div class=\"m-map-content\">\n",
    "            <div class=\"m-map-content-title\">\n",
    "              <img src=\"http://static.home.baidu.com/homebd/bhgdjmlcfkaien1496931694.jpg?authorization=bce-auth-v1%2Fe6803def36ae467f81ebdb4bdc75f119%2F2017-06-08T14%3A21%3A34Z%2F-1%2F%2Ff26a3d3d9eaa094ed1006bc2efae1f1cd3cf40261cffd6e835704e20d4faec1b\" class=\"m-map-content-flag\">\n",
    "              <span class=\"m-map-content-country\">上海</span>\n",
    "              <p class=\"m-map-content-line\"></p>\n",
    "            </div>\n",
    "          <div class=\"m-map-all-box\">\n",
    "              <a href=\"//rc.mbd.baidu.com/jyo1jvd\">\n",
    "                <p class=\"m-address-title\">上海研发中心</p>\n",
    "                <img src=\"http://static.home.baidu.com/homebd/cbnkgjalheifdm1496932591.png?authorization=bce-auth-v1%2Fe6803def36ae467f81ebdb4bdc75f119%2F2017-06-08T14%3A36%3A32Z%2F-1%2F%2F05c732c3a54381182d8e28f51d9709ac2fd4983b5aa9c0f602e1ab35d3d652cc\" class=\"m-map-img\">\n",
    "                <div class=\"m-contact-address\">\n",
    "                      <p style=\"text-align: left;\">上海市浦东新区纳贤路701号百度上研大厦</p><p style=\"text-align: left;\">701 Na Xian Road, Pudong ,Shanghai,China</p><p style=\"text-align: left;\">邮　编：201210</p><p style=\"text-align: left;\">Post Code: 201210</p>                </div>\n",
    "              </a>\n",
    "            </div>        </div><div class=\"m-map-content\">\n",
    "            <div class=\"m-map-content-title\">\n",
    "              <img src=\"http://static.home.baidu.com/homebd/bhgdjmlcfkaien1496931694.jpg?authorization=bce-auth-v1%2Fe6803def36ae467f81ebdb4bdc75f119%2F2017-06-08T14%3A21%3A34Z%2F-1%2F%2Ff26a3d3d9eaa094ed1006bc2efae1f1cd3cf40261cffd6e835704e20d4faec1b\" class=\"m-map-content-flag\">\n",
    "              <span class=\"m-map-content-country\">深圳</span>\n",
    "              <p class=\"m-map-content-line\"></p>\n",
    "            </div>\n",
    "          <div class=\"m-map-all-box\">\n",
    "              <a href=\"//rc.mbd.baidu.com/86vj0xr\">\n",
    "                <p class=\"m-address-title\">深圳研发中心</p>\n",
    "                <img src=\"http://static.home.baidu.com/homebd/fbgdlkacjeihnm1496932612.png?authorization=bce-auth-v1%2Fe6803def36ae467f81ebdb4bdc75f119%2F2017-06-08T14%3A36%3A52Z%2F-1%2F%2Ff1d0e0c33568ee527713199dcce81e2b1914dd30e6c5d1703780febe21eb8d8b\" class=\"m-map-img\">\n",
    "                <div class=\"m-contact-address\">\n",
    "                      <p style=\"text-align: left;\">深圳市南山区学府路东百度国际大厦</p><p style=\"text-align: left;\">Baidu International Building, Xuefu Road East,Nanshan District,ShenZhen</p><p style=\"text-align: left;\">邮　编：518000</p><p style=\"text-align: left;\">Post Code: 518000</p>                </div>\n",
    "              </a>\n",
    "            </div>        </div><div class=\"m-map-content\">\n",
    "            <div class=\"m-map-content-title\">\n",
    "              <img src=\"http://static.home.baidu.com/homebd/jabedcimgnlhkf1496931818.jpg?authorization=bce-auth-v1%2Fe6803def36ae467f81ebdb4bdc75f119%2F2017-06-08T14%3A23%3A39Z%2F-1%2F%2F88ac2e4ae707978be6afc511c9689042e42c905a1339023839f5d8f2439703bb\" class=\"m-map-content-flag\">\n",
    "              <span class=\"m-map-content-country\">森尼韦尔</span>\n",
    "              <p class=\"m-map-content-line\"></p>\n",
    "            </div>\n",
    "          <div class=\"m-map-all-box\">\n",
    "              <a href=\"http://j.map.baidu.com/yvPQe\">\n",
    "                <p class=\"m-address-title\">Baidu USA</p>\n",
    "                <img src=\"http://static.home.baidu.com/homebd/hicbldjfagknem1496932625.png?authorization=bce-auth-v1%2Fe6803def36ae467f81ebdb4bdc75f119%2F2017-06-08T14%3A37%3A06Z%2F-1%2F%2F1f2c046e3869909b15e4c92eb16664d1b0e727d3e15799650520b01b96c9c5b2\" class=\"m-map-img\">\n",
    "                <div class=\"m-contact-address\">\n",
    "                      <p style=\"text-align: left;\">1195 Bordeaux Drive Sunnyvale</p><p style=\"text-align: left;\">Post Code: CA 94089</p>                </div>\n",
    "              </a>\n",
    "            </div>        </div>        <p class=\"m-line\"></p>\n",
    "        <div class=\"m-mail-box\">\n",
    "              <div class=\"m-mail-title\">\n",
    "                合作联系              </div>\n",
    "              <div class=\"m-mail-content\">\n",
    "                <div class=\"m-mail-content-text\">\n",
    "                      市场合作：upmco@baidu.com                  </div><div class=\"m-mail-content-text\">\n",
    "                      校园合作：campusmaster@baidu.com                  </div><div class=\"m-mail-content-text\">\n",
    "                      战略合作：zhanzhangpingtai@baidu.com                  </div>              </div>\n",
    "            </div><div class=\"m-mail-box\">\n",
    "              <div class=\"m-mail-title\">\n",
    "                业务联系              </div>\n",
    "              <div class=\"m-mail-content\">\n",
    "                <div class=\"m-mail-content-text\">\n",
    "                      百度无线：mbaidu@baidu.com                  </div><div class=\"m-mail-content-text\">\n",
    "                      百度推广售后热线：400-921-9999                  </div><div class=\"m-mail-content-text\">\n",
    "                      百度推广销售热线：400-800-8888                  </div>              </div>\n",
    "            </div><div class=\"m-mail-box\">\n",
    "              <div class=\"m-mail-title\">\n",
    "                投诉中心              </div>\n",
    "              <div class=\"m-mail-content\">\n",
    "                <div class=\"m-mail-content-text\">\n",
    "                      投诉中心网址： http://help.baidu.com                  </div><div class=\"m-mail-content-text\">\n",
    "                      职业道德举报邮箱：bdjb@baidu.com                  </div>              </div>\n",
    "            </div>        <div class=\"full-section bottom-section\">\n",
    "  <div class=\"section\">\n",
    "    <div class=\"bd-home-bottom\">\n",
    "      <div class=\"bd-bottom-share\">\n",
    "        <span>实时资讯请关注：</span>\n",
    "\n",
    "\n",
    "        <div class=\"share-wechat\">\n",
    "                    <img src=\"http://static.home.baidu.com/homebd/canbfldghejikm1496932813.png?authorization=bce-auth-v1%2Fe6803def36ae467f81ebdb4bdc75f119%2F2017-06-08T14%3A40%3A14Z%2F-1%2F%2Fa795f1f97d12e2a8c9da9862672bd4fec4a887237ec8883e8a3974e9a52b3624\" class=\"share-wechat-img\" alt=\"\">\n",
    "                    <img src=\"http://static.home.baidu.com/homebd/djkgaclebfhnim1496932814.jpg?authorization=bce-auth-v1%2Fe6803def36ae467f81ebdb4bdc75f119%2F2017-06-08T14%3A40%3A14Z%2F-1%2F%2F9dfa094e984958f1fefb4c3a95b5f8da3e60c759c30442b2479559bfbcdacf2c\" class=\"share-wechat-qrcode\">\n",
    "                  </div>\n",
    "                        <a href=\"http://weibo.com/baiduguanfang?refer_flag=1001030101_&amp;is_hot=1\" target=\"_blank\">\n",
    "                  <img src=\"http://static.home.baidu.com/homebd/fnejlmkaghcdib1496932842.png?authorization=bce-auth-v1%2Fe6803def36ae467f81ebdb4bdc75f119%2F2017-06-08T14%3A40%3A43Z%2F-1%2F%2F5907b18db08f16dba8613f5117fa9c699a09ac79273e32ef0a1f114b7bdd6e55\" alt=\"\">\n",
    "                </a>                <a href=\"https://www.facebook.com/BaiduIncorporated\" target=\"_blank\">\n",
    "                  <img src=\"http://static.home.baidu.com/homebd/ldmfajnhcbkegi1496932864.png?authorization=bce-auth-v1%2Fe6803def36ae467f81ebdb4bdc75f119%2F2017-06-08T14%3A41%3A05Z%2F-1%2F%2F2a180dd88df9a8a7af776fd7239773fab056d1af32cf701e234f5664133a559b\" alt=\"\">\n",
    "                </a>                <a href=\"https://twitter.com/Baidu_Inc\" target=\"_blank\">\n",
    "                  <img src=\"http://static.home.baidu.com/homebd/ldgjhfknbaicem1496932883.png?authorization=bce-auth-v1%2Fe6803def36ae467f81ebdb4bdc75f119%2F2017-06-08T14%3A41%3A23Z%2F-1%2F%2F9ec183749754c187c58c2d5b66a8d2f4bd59f6258188aae327addba639a1631d\" alt=\"\">\n",
    "                </a>\n",
    "      </div>\n",
    "\n",
    "      <div class=\"bd-bottom-moremsg\">\n",
    "        <div class=\"bd-more-msg\">合作联系</div>\n",
    "        <a href=\"�\" class=\"bd-more-duty bottom-cooperation\" target=\"_blank\">�</a><a href=\"�\" class=\"bd-more-duty bottom-cooperation\" target=\"_blank\">�</a><a href=\"�\" class=\"bd-more-duty bottom-cooperation\" target=\"_blank\">�</a>      </div><div class=\"bd-bottom-moremsg\">\n",
    "        <div class=\"bd-more-msg\">业务联系</div>\n",
    "        <a href=\"�\" class=\"bd-more-duty bottom-cooperation\" target=\"_blank\">�</a><a href=\"�\" class=\"bd-more-duty bottom-cooperation\" target=\"_blank\">�</a><a href=\"�\" class=\"bd-more-duty bottom-cooperation\" target=\"_blank\">�</a>      </div><div class=\"bd-bottom-moremsg\">\n",
    "        <div class=\"bd-more-msg\">投诉中心</div>\n",
    "        <a href=\"�\" class=\"bd-more-duty bottom-cooperation\" target=\"_blank\">�</a><a href=\"�\" class=\"bd-more-duty bottom-cooperation\" target=\"_blank\">�</a>      </div>      <div class=\"bd-bottom-icp\">&copy; Baidu <a href=\"//www.baidu.com/duty/\" target=\"_blank\">使用百度前必读</a> 京ICP证030173号</div>\n",
    "    </div>\n",
    "  </div>\n",
    "</div>\n",
    "\n",
    "<div class=\"return-top\">\n",
    "  <img src=\"/Public/img/return-top.png?v=12\" alt=\"\" class=\"return-img\">\n",
    "</div>\n",
    "<div class=\"pc-return\">\n",
    "  <img src=\"/Public/img/pc-backtop.png?v=12\" alt=\"\" class=\"pc-return-img\">\n",
    "</div>\n",
    "<div class=\"mobile-bd-home-bottom\">\n",
    "  <div class=\"bd-bottom-share\">\n",
    "    <span>实时资讯请关注：</span>\n",
    "\n",
    "\n",
    "\n",
    "    <div class=\"share-wechat\">\n",
    "                <img src=\"http://static.home.baidu.com/homebd/canbfldghejikm1496932813.png?authorization=bce-auth-v1%2Fe6803def36ae467f81ebdb4bdc75f119%2F2017-06-08T14%3A40%3A14Z%2F-1%2F%2Fa795f1f97d12e2a8c9da9862672bd4fec4a887237ec8883e8a3974e9a52b3624\" class=\"share-wechat-img\" alt=\"\">\n",
    "                <img src=\"http://static.home.baidu.com/homebd/djkgaclebfhnim1496932814.jpg?authorization=bce-auth-v1%2Fe6803def36ae467f81ebdb4bdc75f119%2F2017-06-08T14%3A40%3A14Z%2F-1%2F%2F9dfa094e984958f1fefb4c3a95b5f8da3e60c759c30442b2479559bfbcdacf2c\" class=\"m-share-wechat-qrcode\">\n",
    "              </div>\n",
    "                     <a href=\"http://weibo.com/baiduguanfang?refer_flag=1001030101_&amp;is_hot=1\" target=\"_blank\">\n",
    "              <img src=\"http://static.home.baidu.com/homebd/fnejlmkaghcdib1496932842.png?authorization=bce-auth-v1%2Fe6803def36ae467f81ebdb4bdc75f119%2F2017-06-08T14%3A40%3A43Z%2F-1%2F%2F5907b18db08f16dba8613f5117fa9c699a09ac79273e32ef0a1f114b7bdd6e55\" alt=\"\">\n",
    "            </a>           <a href=\"https://www.facebook.com/BaiduIncorporated\" target=\"_blank\">\n",
    "              <img src=\"http://static.home.baidu.com/homebd/ldmfajnhcbkegi1496932864.png?authorization=bce-auth-v1%2Fe6803def36ae467f81ebdb4bdc75f119%2F2017-06-08T14%3A41%3A05Z%2F-1%2F%2F2a180dd88df9a8a7af776fd7239773fab056d1af32cf701e234f5664133a559b\" alt=\"\">\n",
    "            </a>           <a href=\"https://twitter.com/Baidu_Inc\" target=\"_blank\">\n",
    "              <img src=\"http://static.home.baidu.com/homebd/ldgjhfknbaicem1496932883.png?authorization=bce-auth-v1%2Fe6803def36ae467f81ebdb4bdc75f119%2F2017-06-08T14%3A41%3A23Z%2F-1%2F%2F9ec183749754c187c58c2d5b66a8d2f4bd59f6258188aae327addba639a1631d\" alt=\"\">\n",
    "            </a>\n",
    "  </div>\n",
    "  <div class=\"mobile-flex\">\n",
    "    <div class=\"mobile-bd-bottom-moremsg mobile-flex-box\">\n",
    "           <div class=\"mobile-bd-bottom-content\">公司介绍<img src=\"/Public/img/mobile-arrow-up.png?v=12\" class=\"mobile-arrow-up\"><img src=\"/Public/img/mobile-arrow-down.png?v=12\" class=\"mobile-arrow-down\"></div>\n",
    "           <ul class=\"mobile-bd-detail\">\n",
    "            <li><a href=\"http://home.baidu.com/home/index/company_culture\" target=\"_blank\">核心价值观</a></li><li><a href=\"http://home.baidu.com/home/index/company\" target=\"_blank\">百度简介</a></li><li><a href=\"http://home.baidu.com/home/index/baidu_road\" target=\"_blank\">百度大事记</a></li><li><a href=\"http://home.baidu.com/home/index/management_team\" target=\"_blank\">管理团队</a></li>        </ul>\n",
    "      </div><div class=\"mobile-bd-bottom-moremsg mobile-flex-box\">\n",
    "           <div class=\"mobile-bd-bottom-content\">更多信息<img src=\"/Public/img/mobile-arrow-up.png?v=12\" class=\"mobile-arrow-up\"><img src=\"/Public/img/mobile-arrow-down.png?v=12\" class=\"mobile-arrow-down\"></div>\n",
    "           <ul class=\"mobile-bd-detail\">\n",
    "            <li><a href=\"http://csr.baidu.com/\" target=\"_blank\">社会责任</a></li><li><a href=\"http://home.baidu.com/home/index/contact_us\" target=\"_blank\">联系我们</a></li>        </ul>\n",
    "      </div><div class=\"mobile-bd-bottom-moremsg mobile-flex-box\">\n",
    "           <div class=\"mobile-bd-bottom-content\">商业合作<img src=\"/Public/img/mobile-arrow-up.png?v=12\" class=\"mobile-arrow-up\"><img src=\"/Public/img/mobile-arrow-down.png?v=12\" class=\"mobile-arrow-down\"></div>\n",
    "           <ul class=\"mobile-bd-detail\">\n",
    "            <li><a href=\"http://e.baidu.com/?subsite=bj\" target=\"_blank\">百度推广</a></li><li><a href=\"http://union.baidu.com/customerLogin.html?fromu=http%3A%2F%2Funion.baidu.com%2F\" target=\"_blank\">百度联盟</a></li><li><a href=\"http://pro.baidu.com/\" target=\"_blank\">营销中心</a></li>        </ul>\n",
    "      </div>\n",
    "  </div>\n",
    "  <div class=\"mobile-bd-bottom-icp\">&copy; Baidu <a href=\"//www.baidu.com/duty/\" target=\"_blank\">使用百度前必读</a> 京ICP证030173号</div>\n",
    "</div>\n",
    "<div class=\"loading\"></div>\n",
    "\n",
    "      </div>\n",
    "      </div>\n",
    "    </div>\n",
    "  </div>\n",
    "  <!-- <script src=\"/Public/js/jquery.min.js\"></script> -->\n",
    "  <script src=\"/Public/js/lib/jquery.min.js?v=16\"></script>\n",
    "<script src=\"/Public/js/rem.min.js?v=16\"></script>\n",
    "<script src=\"/Public/js/lib/bootstrap.min.js?v=16\"></script>\n",
    "<script src=\"/Public/js/lib/snap.svg-min.js?v=16\"></script>\n",
    "<script src=\"/Public/js/lib/mustache.min.js?v=16\"></script>\n",
    "<!-- <script src=\"/Public/js/scroll.js\"></script> -->\n",
    "<script src=\"/Public/js/common.js?v=16\"></script>\n",
    "<script>\n",
    "var width = $(window).width();\n",
    "if (width > 768) {\n",
    "  window._hmt && window._hmt.push(['_trackEvent', '入口统计','pc端']);\n",
    "  var height = $(window).height();\n",
    "  $(window).scroll(function() {\n",
    "    var top = $(window).scrollTop();\n",
    "    if (top > height) {\n",
    "      $(\".pc-return\").show();\n",
    "    } else {\n",
    "      $(\".pc-return\").hide();\n",
    "    }\n",
    "  });\n",
    "  $(\"body\").on(\"click\", \".pc-return\", function() {\n",
    "    $('body,html').animate({\n",
    "      scrollTop: 0\n",
    "    }, 300);\n",
    "  });\n",
    "} else {\n",
    "  window._hmt && window._hmt.push(['_trackEvent', '入口统计','手机端']);\n",
    "  $(\".main\").on(\"click\", \".return-img\", function() {\n",
    "    $('body,html').animate({\n",
    "      scrollTop: 0\n",
    "    }, 300);\n",
    "  });\n",
    "}\n",
    "</script>\n",
    "<script type=\"text/javascript\">\n",
    "var GV = {\n",
    "  ROOT: \"/\",\n",
    "};\n",
    "</script>\n",
    "\n",
    "  <script src=\"/Public/js/slick.min.js?v=13\"></script>\n",
    "  <!-- <script src=\"/Public/js/index.js\"></script> -->\n",
    "</body>\n",
    "\n",
    "</html>\n",
    "'''\n",
    "# my_find_baidu_tel = re.compile(r\"(\\d\\d\\d)-(\\d\\d\\d)-(\\d\\d\\d\\d)\") # 这种是将每个部分放在元组中\n",
    "# my_find_baidu_tel = re.compile(r\"\\d\\d\\d-\\d\\d\\d-\\d\\d\\d\\d\") # 正常查找到所有的电话号\n",
    "my_find_baidu_tel = re.compile(r\"(\\d){3}-(\\d){3}-(\\d){4}\") # 这种方式就不好用\n",
    "rst_find_baidu_tel = my_find_baidu_tel.findall(baidu_text)\n",
    "print(rst_find_baidu_tel)"
   ]
  },
  {
   "cell_type": "markdown",
   "metadata": {},
   "source": [
    "# <center>爬虫</center>"
   ]
  },
  {
   "cell_type": "markdown",
   "metadata": {},
   "source": [
    "- 三方库：requests 通过三方库将html内容导入到python"
   ]
  },
  {
   "cell_type": "code",
   "execution_count": 1,
   "metadata": {},
   "outputs": [
    {
     "name": "stdout",
     "output_type": "stream",
     "text": [
      "<Response [200]>\n"
     ]
    }
   ],
   "source": [
    "import requests\n",
    "response1 = requests.get(\"https://baike.baidu.com/item/%E7%99%BE%E5%BA%A6%E7%99%BE%E7%A7%91/85895?fr=aladdin\")\n",
    "print(response1.apparent_encoding) # 查看当前网页编码\n",
    "response1.encoding='utf-8' # 为防止乱码，修改读取编码 \n",
    "print(response1.text) # 查看网页文本"
   ]
  },
  {
   "cell_type": "markdown",
   "metadata": {},
   "source": [
    "- 可以使用Beautiful Soup\n",
    "    - Beautiful Soup 是一个可以从HTML或XML文件中提取数据的Python库.它能够通过你喜欢的转换器实现惯用的文档导航,查找,修改文档的方式.Beautiful Soup会帮你节省数小时甚至数天的工作时间."
   ]
  },
  {
   "cell_type": "markdown",
   "metadata": {},
   "source": [
    "- 一些网站加上后缀robots.txt，这个页面指引了哪些东西可以被爬取，哪些不可以，如果爬的太快可能会被封掉。所以一些网站的反爬机制处理是需要重点解决的问题。"
   ]
  },
  {
   "cell_type": "code",
   "execution_count": null,
   "metadata": {},
   "outputs": [],
   "source": [
    "import requests\n",
    "from bs4 import BeautifulSoup\n",
    "\n",
    "# 先用requests把网页提取出来\n",
    "response1 = requests.get(\"https://baike.baidu.com/item/%E5%91%A8%E6%9D%B0%E4%BC%A6\")\n",
    "# print(response1.apparent_encoding) # 查看当前网页编码\n",
    "response1.encoding='utf-8' # 为防止乱码，修改读取编码 \n",
    "# print(response1.text) # 查看网页文本\n",
    "soup = BeautifulSoup(response1.content,'html.parser') # 解析的字符串是response1 ，解析内容html.parser\n",
    "# print(soup) # 全部的网页信息\n",
    "print(soup.title) # 只打印标题\n",
    "print(soup.p) # 打印一个段落 不知道为啥百度不行 维基百科可以"
   ]
  },
  {
   "cell_type": "code",
   "execution_count": null,
   "metadata": {},
   "outputs": [],
   "source": []
  },
  {
   "cell_type": "code",
   "execution_count": null,
   "metadata": {},
   "outputs": [],
   "source": []
  },
  {
   "cell_type": "code",
   "execution_count": null,
   "metadata": {},
   "outputs": [],
   "source": []
  },
  {
   "cell_type": "code",
   "execution_count": null,
   "metadata": {},
   "outputs": [],
   "source": []
  },
  {
   "cell_type": "code",
   "execution_count": null,
   "metadata": {},
   "outputs": [],
   "source": []
  }
 ],
 "metadata": {
  "anaconda-cloud": {},
  "kernelspec": {
   "display_name": "Python 3",
   "language": "python",
   "name": "python3"
  },
  "language_info": {
   "codemirror_mode": {
    "name": "ipython",
    "version": 3
   },
   "file_extension": ".py",
   "mimetype": "text/x-python",
   "name": "python",
   "nbconvert_exporter": "python",
   "pygments_lexer": "ipython3",
   "version": "3.7.4"
  }
 },
 "nbformat": 4,
 "nbformat_minor": 2
}
